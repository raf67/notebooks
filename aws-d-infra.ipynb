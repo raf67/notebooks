{
 "cells": [
  {
   "cell_type": "raw",
   "id": "567e47c7-63e6-4360-a976-23d037553edc",
   "metadata": {},
   "source": [
    "D:\\AWS\n",
    "│\n",
    "├── infra             # All infra configurations\n",
    "│   ├── lambdas\n",
    "│   ├── cloudfront\n",
    "│   ├── route53\n",
    "│   └── iam\n",
    "│\n",
    "├── services          # Your deployed applications’ source & build artifacts\n",
    "│   ├── python-api\n",
    "│   ├── php-processor\n",
    "│   └── hybrid-lambda\n",
    "│\n",
    "├── scripts           # Automation & helpers\n",
    "│   ├── deploy_and_test.sh\n",
    "│   ├── index-generator.py\n",
    "│   └── update-cloudfront.ps1\n",
    "│\n",
    "├── docs              # Markdown docs, test plans, onboarding guides\n",
    "│   ├── architecture.md\n",
    "│   ├── test-plan-hybrid.md\n",
    "│   └── README.md\n",
    "│\n",
    "├── deployments       # Immutable zips, config snapshots, logs by date/version\n",
    "│   └── 2025-07-27-hybrid\n",
    "│       ├── simple-hybrid.zip\n",
    "│       ├── dist-config.json\n",
    "│       └── deploy-log.txt\n",
    "│\n",
    "└── tools             # Local binaries (minimal)\n",
    "    ├── awscli\n",
    "    └── cryptography\n"
   ]
  },
  {
   "cell_type": "code",
   "execution_count": null,
   "id": "8b949491-0b16-4c28-b1dc-8c25943800c9",
   "metadata": {},
   "outputs": [],
   "source": []
  },
  {
   "cell_type": "raw",
   "id": "9c8e54ea-0251-4f77-bb2d-719e2e9353cc",
   "metadata": {},
   "source": []
  }
 ],
 "metadata": {
  "kernelspec": {
   "display_name": "Python 3 (ipykernel)",
   "language": "python",
   "name": "python3"
  },
  "language_info": {
   "codemirror_mode": {
    "name": "ipython",
    "version": 3
   },
   "file_extension": ".py",
   "mimetype": "text/x-python",
   "name": "python",
   "nbconvert_exporter": "python",
   "pygments_lexer": "ipython3",
   "version": "3.10.16"
  }
 },
 "nbformat": 4,
 "nbformat_minor": 5
}
