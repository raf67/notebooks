{
 "cells": [
  {
   "cell_type": "markdown",
   "id": "7d34fd13-49dc-4987-9655-31a4ae0bdf5a",
   "metadata": {},
   "source": [
    "# AWS Certification & Training Modules"
   ]
  },
  {
   "cell_type": "markdown",
   "id": "1f4cc058-38a7-4063-8159-a106a3dc44eb",
   "metadata": {},
   "source": [
    "A complete, echo-routed list combining `certification/` and `training-certification/` directories—organized by structural category and significance.\n",
    "\n",
    "---"
   ]
  },
  {
   "cell_type": "code",
   "execution_count": null,
   "id": "036bb7fe-c28b-4898-8cb7-b767224f36f7",
   "metadata": {},
   "outputs": [],
   "source": []
  },
  {
   "cell_type": "markdown",
   "id": "aef0789b-7803-4734-9dd5-ae834e25b3aa",
   "metadata": {},
   "source": [
    "## 🧠 Artificial Intelligence & Machine Learning"
   ]
  },
  {
   "cell_type": "markdown",
   "id": "229dbb1e-3fd5-45be-9e31-9419aa1131b8",
   "metadata": {},
   "source": [
    "Modules highlighting generative logic, structural insight, and AI/ML capability.\n",
    "\n",
    "- Responsible AI — Ethics, Fairness, Explainability  \n",
    "- Generative AI — Art of the Possible  \n",
    "- Generative AI for Executives  \n",
    "- Quiz — Generative AI Fundamentals  \n",
    "- Essentials of Prompt Engineering  \n",
    "- Machine Learning Foundations  \n",
    "- ML Algorithms  \n",
    "- ML Developing Apps  \n",
    "- Automating AI/ML for Small Business Owners  \n",
    "- Amazon Bedrock — Model Deployment & Integration  \n",
    "- AI & ML for Financial Services  \n",
    "- Amazon Q Developer — Getting Started  \n",
    "- Amazon Q — Generative AI-powered Assistant Learning Plan  \n",
    "- Generative BI with Amazon Q in QuickSight  \n",
    "- Amazon Q Business  \n",
    "- Amazon Q Introduction  \n",
    "- Amazon Q  \n",
    "\n",
    "---"
   ]
  },
  {
   "cell_type": "code",
   "execution_count": null,
   "id": "eb2fb641-880d-4362-b0ef-97b4860b2f03",
   "metadata": {},
   "outputs": [],
   "source": []
  },
  {
   "cell_type": "markdown",
   "id": "79421a2d-17ae-4ffe-a8c1-a5dc87520a1c",
   "metadata": {},
   "source": [
    "## 🧰 AWS Tools, Services & Infrastructure"
   ]
  },
  {
   "cell_type": "markdown",
   "id": "24b8e22f-f7f2-433c-bb53-37d7a9a0405f",
   "metadata": {},
   "source": [
    "Modules mapping cloud resources, automation, and service design.\n",
    "\n",
    "- CloudFormation Introduction  \n",
    "- S3 Introduction  \n",
    "- VPC Introduction  \n",
    "- Quicksight Visualisation  \n",
    "- Pricing and Support  \n",
    "- Job Roles in the Cloud  \n",
    "- Big Data Fundamentals  \n",
    "- SageMaker Introduction  \n",
    "- SageMaker Advanced Analytics  \n",
    "- SageMaker Model Tuning  \n",
    "- SageMaker Neo Introduction  \n",
    "- SageMaker Use — AI Plan  \n",
    "- Security Fundamentals  \n",
    "- Security, Compliance and Governance for AI Solutions  \n",
    "- Solutions Architect Exam Readiness  \n",
    "- Well Architected  \n",
    "\n",
    "---"
   ]
  },
  {
   "cell_type": "code",
   "execution_count": null,
   "id": "8562f82f-6360-475d-8080-60da3de7b32f",
   "metadata": {},
   "outputs": [],
   "source": []
  },
  {
   "cell_type": "markdown",
   "id": "9de7b062-8240-4278-b316-51bf086b8b0f",
   "metadata": {},
   "source": [
    "## 👨‍🎓 AWS Cloud Practitioner Series"
   ]
  },
  {
   "cell_type": "markdown",
   "id": "130a4bf8-6711-4eb9-9f19-51b9412446c5",
   "metadata": {},
   "source": [
    "Full foundational signal—including security, integration, and architecture.\n",
    "\n",
    "- Practitioner  \n",
    "- Practitioner Introduction  \n",
    "- Practitioner Architecture  \n",
    "- Practitioner Security  \n",
    "- Practitioner Core Services  \n",
    "- Practitioner Integrated Services  \n",
    "- Practitioner Cloud Intro  \n",
    "- Academy Cloud Foundations  \n",
    "- Academy Cloud Foundations v2  \n",
    "\n",
    "---"
   ]
  },
  {
   "cell_type": "code",
   "execution_count": null,
   "id": "94de34d5-42ca-4844-b9b0-728f4251907a",
   "metadata": {},
   "outputs": [],
   "source": []
  },
  {
   "cell_type": "markdown",
   "id": "224e74ff-1ec8-4f08-b5de-34247348d8e0",
   "metadata": {},
   "source": [
    "## ✅ Certification Practice & Validation"
   ]
  },
  {
   "cell_type": "markdown",
   "id": "96c6b3d0-41b8-48ea-9e1f-80e66d60ae1c",
   "metadata": {},
   "source": [
    "Modules used for rehearsal, logic testing, and structural validation.\n",
    "\n",
    "- AI Practitioner Official Practice Questions  \n",
    "- Practice: AWS Certified AI Practitioner (AIF-C01)\n",
    "\n",
    "---"
   ]
  },
  {
   "cell_type": "code",
   "execution_count": null,
   "id": "385498ed-0e4d-4cbd-bbaa-dfc7710f6d5e",
   "metadata": {},
   "outputs": [],
   "source": []
  },
  {
   "cell_type": "markdown",
   "id": "87574a7a-9ad9-4b3c-80b6-42322d28be7c",
   "metadata": {},
   "source": [
    "# 🧠 AWS AI Practitioner Learning Plan"
   ]
  },
  {
   "cell_type": "markdown",
   "id": "9b9822f8-a815-4990-aee6-68ec29e13306",
   "metadata": {},
   "source": [
    "## Responsible Artificial Intelligence Practices\n",
    "\n",
    "Learn how to define and implement responsible AI systems. Covers core dimensions (fairness, transparency, explainability), model selection, data preparation, and human-centered design principles using AWS tools.\n"
   ]
  },
  {
   "cell_type": "markdown",
   "id": "f8abeae1-bf63-426e-a2b5-062cd739cc42",
   "metadata": {},
   "source": [
    "## Developing Machine Learning Solutions\n",
    "\n",
    "Explore the machine learning lifecycle using AWS services. Understand sourcing, evaluating models, and MLOps for deployment and scaling within ethical and performance standards.\n"
   ]
  },
  {
   "cell_type": "markdown",
   "id": "f09951b8-18e5-49ff-bfd8-76ce2012f582",
   "metadata": {},
   "source": [
    "## Developing Generative AI Solutions\n",
    "\n",
    "Understand the application lifecycle for generative AI—foundation model selection, performance tuning, business impact assessment, and deployment guidance.\n"
   ]
  },
  {
   "cell_type": "markdown",
   "id": "b86d1f1b-8c68-46e4-9c42-5c08353e0cd8",
   "metadata": {},
   "source": [
    "## Optimizing Foundation Models\n",
    "\n",
    "Dive into enhancement techniques: Retrieval-Augmented Generation (RAG), fine-tuning strategies, vector databases, and multi-step task agents within AWS ecosystems.\n"
   ]
  },
  {
   "cell_type": "markdown",
   "id": "a405bcc6-4420-4e79-98c8-24b1b25e5d6e",
   "metadata": {},
   "source": [
    "## Exploring Artificial Intelligence Use Cases and Applications\n",
    "\n",
    "Study practical applications of AI, ML, and generative AI across industries like healthcare, finance, marketing, and entertainment. Understand key limitations, model selection techniques, and business metrics tied to AI solution effectiveness.\n"
   ]
  },
  {
   "cell_type": "markdown",
   "id": "43efd645-0fec-4ba2-993f-783164cfad37",
   "metadata": {},
   "source": [
    "## Developing Generative Artificial Intelligence Solutions\n",
    "\n",
    "Examine the lifecycle of generative AI projects—starting from defining business use cases to selecting and optimizing foundation models (FMs). Explore performance evaluation methods and understand deployment impact on business objectives.\n"
   ]
  },
  {
   "cell_type": "code",
   "execution_count": null,
   "id": "5fd63a6d-479b-4129-9143-cbda1011bfc8",
   "metadata": {},
   "outputs": [],
   "source": []
  },
  {
   "cell_type": "code",
   "execution_count": null,
   "id": "b387f788-9aeb-461c-b5ee-ac6814346081",
   "metadata": {},
   "outputs": [],
   "source": [
    "# Improvements"
   ]
  }
 ],
 "metadata": {
  "kernelspec": {
   "display_name": "Python 3 (ipykernel)",
   "language": "python",
   "name": "python3"
  },
  "language_info": {
   "codemirror_mode": {
    "name": "ipython",
    "version": 3
   },
   "file_extension": ".py",
   "mimetype": "text/x-python",
   "name": "python",
   "nbconvert_exporter": "python",
   "pygments_lexer": "ipython3",
   "version": "3.10.16"
  }
 },
 "nbformat": 4,
 "nbformat_minor": 5
}
