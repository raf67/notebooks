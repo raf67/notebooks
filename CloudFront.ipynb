{
 "cells": [
  {
   "cell_type": "markdown",
   "id": "1be2f6d8-b4c9-46be-ba37-9869fc859edf",
   "metadata": {},
   "source": [
    "# CloudFront set up"
   ]
  },
  {
   "cell_type": "markdown",
   "id": "0b738552-9b03-46a3-9c36-0d194798c037",
   "metadata": {},
   "source": [
    "**Step 1: Get an SSL Certificate (Free with AWS Certificate Manager)**\n",
    "\n",
    "Go to AWS Certificate Manager (ACM) in the US East (N. Virginia) region (this is required for CloudFront)\n",
    "Click \"Request a certificate\"\n",
    "Choose \"Request a public certificate\"\n",
    "Enter your domain name: richardfrancis.info and www.richardfrancis.info\n",
    "Choose DNS validation (easier if you use Route 53) or email validation\n",
    "Complete the validation process"
   ]
  },
  {
   "cell_type": "markdown",
   "id": "3a0598dc-c52a-4fbb-8adf-482fd6321a36",
   "metadata": {},
   "source": [
    "**Step 2: Update Your CloudFront Distribution**\n",
    "\n",
    "Go to CloudFront console and select your distribution\n",
    "Click on the \"General\" tab, then \"Edit\"\n",
    "In the \"Custom SSL Certificate\" section, select your newly created ACM certificate\n",
    "Set \"Security Policy\" to TLSv1.2_2021 or later\n",
    "Save changes"
   ]
  },
  {
   "cell_type": "markdown",
   "id": "a9ff39f0-7ebe-4df5-9189-720c0d3e5e56",
   "metadata": {},
   "source": [
    "**Step 3: Configure HTTPS Behavior**\n",
    "\n",
    "Go to the \"Behaviors\" tab in your distribution\n",
    "Select the default behavior and click \"Edit\"\n",
    "Under \"Viewer Protocol Policy\", choose:\n",
    "\"Redirect HTTP to HTTPS\" (recommended - automatically redirects HTTP traffic to HTTPS)\n",
    "OR \"HTTPS Only\" (blocks HTTP requests entirely)\n",
    "Save changes"
   ]
  },
  {
   "cell_type": "markdown",
   "id": "0d18abc3-dd53-4b32-8147-5c25300e3f7e",
   "metadata": {},
   "source": [
    "**Step 4: Update Origin Settings**\n",
    "\n",
    "Go to the \"Origins\" tab\n",
    "Select your S3 origin and click \"Edit\"\n",
    "Set \"Origin Protocol Policy\" to \"HTTP Only\" (since S3 website endpoints don't support HTTPS)"
   ]
  },
  {
   "cell_type": "markdown",
   "id": "65976f99-c3be-4d1d-aeea-e9d2aadbc070",
   "metadata": {},
   "source": [
    "**Step 5: Wait for Deployment**\n",
    "\n",
    "Changes take 15-30 minutes to propagate globally\n",
    "You can monitor the status in the CloudFront console"
   ]
  },
  {
   "cell_type": "markdown",
   "id": "a3d34aed-3097-406c-87c3-7a41d6630901",
   "metadata": {},
   "source": [
    "**Step 6: Update Your DNS (if needed)**\n",
    "\n",
    "If you're not already using Route 53, make sure your domain points to your CloudFront distribution URL, not directly to S3."
   ]
  },
  {
   "cell_type": "markdown",
   "id": "4bd4e8d0-6ab5-432b-9a35-54bb7452e014",
   "metadata": {},
   "source": [
    "Once this is complete, your website will be accessible via HTTPS, which will:\n",
    "\n",
    "Improve your search engine rankings\n",
    "Build trust with potential clients\n",
    "Secure data transmission\n",
    "Enable modern web features"
   ]
  },
  {
   "cell_type": "code",
   "execution_count": null,
   "id": "1b2d15e1-483f-4c6c-99ed-82bb26592120",
   "metadata": {},
   "outputs": [],
   "source": []
  },
  {
   "cell_type": "markdown",
   "id": "9a773677-4c87-45b4-9ce9-d1f18f24a189",
   "metadata": {},
   "source": [
    "# 🧭 DNS + Routing Deployment – API Gateway + CloudFront Architecture\n",
    "\n",
    "This configuration creates a secure, production-grade structure for hosting static content and dynamic APIs under a single domain.\n",
    "\n",
    "---\n",
    "\n",
    "## 🌐 Domain Setup: richardfrancis.info\n",
    "\n",
    "- Registered domain in Route 53\n",
    "- DNS zone contains alias records for:\n",
    "  - `richardfrancis.info` → CloudFront for static assets\n",
    "  - `api.richardfrancis.info` → API Gateway for dynamic content\n",
    "  - `api-richardfrancis.info` → API Gateway for dynamic content\n",
    "\n",
    "---\n",
    "\n",
    "## 🧱 Static Content Layer\n",
    "\n",
    "| Component    | Purpose                          | Configuration                         |\n",
    "|--------------|----------------------------------|----------------------------------------|\n",
    "| **S3 Bucket** | Hosts static assets              | `richardfrancis.info` bucket (public) |\n",
    "| **CloudFront** | CDN + HTTPS delivery            | Origin: S3 website endpoint + ACM cert |\n",
    "\n",
    "CloudFront uses viewer protocol policy: `Redirect HTTP to HTTPS`, secured with certificate from ACM (N. Virginia). Routes to `richardfrancis.info`.\n",
    "\n",
    "---\n",
    "\n",
    "## 🔄 Dynamic Content Layer\n",
    "\n",
    "| Component        | Purpose                          | Configuration                           |\n",
    "|------------------|----------------------------------|------------------------------------------|\n",
    "| **Lambda**       | Executes backend logic           | Stateless, serverless functions          |\n",
    "| **API Gateway**  | Routes requests to Lambda        | HTTP API type + CORS enabled             |\n",
    "| **ACM Certificate** | Secures custom domain         | `api.richardfrancis.info` via DNS validation |\n",
    "\n",
    "API Gateway uses custom domain with secure base path mapping and HTTPS routing.\n",
    "\n",
    "---\n",
    "\n",
    "## 🔧 DNS Summary\n",
    "\n",
    "| Record Type | Name                        | Target                        | Function             |\n",
    "|-------------|-----------------------------|-------------------------------|----------------------|\n",
    "| `A (Alias)` | `richardfrancis.info`       | CloudFront distribution       | Static assets        |\n",
    "| `A (Alias)` | `api.richardfrancis.info`   | API Gateway regional endpoint | Lambda interaction   |\n",
    "\n",
    "ACM and DNS configured to match security policies (`TLSv1.2_2021`), ensuring cross-domain trust and inheritance viability.\n",
    "\n",
    "---\n",
    "\n",
    "## 📦 Integration Flow\n",
    "\n",
    "Frontend JS:\n",
    "```js\n",
    "fetch(\"https://api.richardfrancis.info/contact\", {\n",
    "  method: \"POST\",\n",
    "  headers: { \"Content-Type\": \"application/json\" },\n",
    "  body: JSON.stringify(payload)\n",
    "});\n"
   ]
  },
  {
   "cell_type": "markdown",
   "id": "45f821f2-77a8-4ce6-a5ff-63828cbede05",
   "metadata": {},
   "source": [
    "# cloudfront api.richardfrancis.info"
   ]
  },
  {
   "cell_type": "raw",
   "id": "86dcd66d-89d2-4fe0-bc1f-07d8c100f7e1",
   "metadata": {},
   "source": [
    "$json = @\"\n",
    "{\n",
    "  \"CallerReference\": \"rf-api-setup-2025\",\n",
    "  \"Comment\": \"API distribution for api.richardfrancis.info\",\n",
    "  \"Aliases\": {\n",
    "    \"Quantity\": 1,\n",
    "    \"Items\": [\"api.richardfrancis.info\"]\n",
    "  },\n",
    "  \"Origins\": {\n",
    "    \"Quantity\": 1,\n",
    "    \"Items\": [\n",
    "      {\n",
    "        \"Id\": \"api-origin\",\n",
    "        \"DomainName\": \"api.richardfrancis.info\",\n",
    "        \"CustomOriginConfig\": {\n",
    "          \"HTTPPort\": 80,\n",
    "          \"HTTPSPort\": 443,\n",
    "          \"OriginProtocolPolicy\": \"https-only\",\n",
    "          \"OriginSslProtocols\": {\n",
    "            \"Quantity\": 1,\n",
    "            \"Items\": [\"TLSv1.2\"]\n",
    "          }\n",
    "        }\n",
    "      }\n",
    "    ]\n",
    "  },\n",
    "  \"DefaultCacheBehavior\": {\n",
    "    \"TargetOriginId\": \"api-origin\",\n",
    "    \"ViewerProtocolPolicy\": \"redirect-to-https\",\n",
    "    \"AllowedMethods\": {\n",
    "      \"Quantity\": 2,\n",
    "      \"Items\": [\"GET\", \"HEAD\"]\n",
    "    },\n",
    "    \"ForwardedValues\": {\n",
    "      \"QueryString\": true,\n",
    "      \"Cookies\": {\n",
    "        \"Forward\": \"none\"\n",
    "      }\n",
    "    }\n",
    "  },\n",
    "  \"ViewerCertificate\": {\n",
    "    \"ACMCertificateArn\": \"arn:aws:acm:us-east-1:280762879731:certificate/6eda9f46-7b2f-4e63-8437-3a2c44d220ac\",\n",
    "    \"SSLSupportMethod\": \"sni-only\",\n",
    "    \"MinimumProtocolVersion\": \"TLSv1.2_2021\"\n",
    "  },\n",
    "  \"Enabled\": true\n",
    "}\n",
    "\n",
    "'@ | Set-Content -Path .\\distribution-config.json\n"
   ]
  },
  {
   "cell_type": "code",
   "execution_count": null,
   "id": "229043a5-5d58-454a-a75b-452d6eada26c",
   "metadata": {},
   "outputs": [],
   "source": []
  },
  {
   "cell_type": "raw",
   "id": "8b712f8e-0796-4ea9-bea6-552271fc8709",
   "metadata": {},
   "source": [
    "aws route53 change-resource-record-sets `\n",
    "  --hosted-zone-id Z1JAKFRXEBFHZ4 `\n",
    "  --change-batch file://D:\\AWS\\route53-alias.json\n"
   ]
  }
 ],
 "metadata": {
  "kernelspec": {
   "display_name": "Python 3 (ipykernel)",
   "language": "python",
   "name": "python3"
  },
  "language_info": {
   "codemirror_mode": {
    "name": "ipython",
    "version": 3
   },
   "file_extension": ".py",
   "mimetype": "text/x-python",
   "name": "python",
   "nbconvert_exporter": "python",
   "pygments_lexer": "ipython3",
   "version": "3.10.16"
  }
 },
 "nbformat": 4,
 "nbformat_minor": 5
}
