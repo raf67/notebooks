{
 "cells": [
  {
   "cell_type": "markdown",
   "id": "21f46e95-32aa-4b7e-9c9e-969fd94dba9d",
   "metadata": {},
   "source": [
    "# Flask tutorial"
   ]
  },
  {
   "cell_type": "markdown",
   "id": "48f6af6f-b3b0-48e5-b8ed-39469660c596",
   "metadata": {},
   "source": [
    "- set up"
   ]
  },
  {
   "cell_type": "code",
   "execution_count": null,
   "id": "89adb4ba-a650-4e37-a05a-e1830a20511d",
   "metadata": {},
   "outputs": [],
   "source": [
    "conda create --name flask-tutorial-env python=3.10"
   ]
  },
  {
   "cell_type": "code",
   "execution_count": null,
   "id": "4b734856-3725-4286-977e-524eff9e44f4",
   "metadata": {},
   "outputs": [],
   "source": [
    "conda activate FlaskEnv"
   ]
  },
  {
   "cell_type": "code",
   "execution_count": null,
   "id": "847d5c97-58dd-4dce-8213-3e7ed34d7d75",
   "metadata": {},
   "outputs": [],
   "source": [
    "python -m flask --version"
   ]
  },
  {
   "cell_type": "code",
   "execution_count": null,
   "id": "c2cf7b6b-92bd-4797-b539-65f5e01f9092",
   "metadata": {},
   "outputs": [],
   "source": [
    "conda env list"
   ]
  },
  {
   "cell_type": "code",
   "execution_count": null,
   "id": "0fb3b031-adb2-4697-a8d9-472cb9ab4841",
   "metadata": {},
   "outputs": [],
   "source": [
    "set FLASK_APP=__init__.py"
   ]
  },
  {
   "cell_type": "code",
   "execution_count": null,
   "id": "e9d2e927-4c1d-4d9f-a699-cc8c2ae9a3ea",
   "metadata": {},
   "outputs": [],
   "source": [
    "set FLASK_APP=hello.py"
   ]
  },
  {
   "cell_type": "code",
   "execution_count": null,
   "id": "bb460d77-ac7f-4e2b-8742-7cb2bba6e7a6",
   "metadata": {},
   "outputs": [],
   "source": [
    "flask --app flaskr run --debug"
   ]
  },
  {
   "cell_type": "code",
   "execution_count": null,
   "id": "c7a9853b-3a3b-4bfa-b15f-5b14bb7be157",
   "metadata": {},
   "outputs": [],
   "source": [
    "doskey flaskhello=set FLASK_APP=hello.py & flask run\n",
    "doskey flasknew=set FLASK_APP=new_script.py & flask run"
   ]
  },
  {
   "cell_type": "markdown",
   "id": "603f26b5-9d83-48d9-9bce-c68347a5795c",
   "metadata": {},
   "source": [
    "__init__.py"
   ]
  },
  {
   "cell_type": "code",
   "execution_count": null,
   "id": "b12e270a-af2a-4b2f-ae3c-c46281cade23",
   "metadata": {},
   "outputs": [],
   "source": [
    "import os\n",
    "\n",
    "from flask import Flask\n",
    "\n",
    "\n",
    "def create_app(test_config=None):\n",
    "    # create and configure the app\n",
    "    app = Flask(__name__, instance_relative_config=True)\n",
    "    app.config.from_mapping(\n",
    "        SECRET_KEY='dev',\n",
    "        DATABASE=os.path.join(app.instance_path, 'flaskr.sqlite'),\n",
    "    )\n",
    "\n",
    "    if test_config is None:\n",
    "        # load the instance config, if it exists, when not testing\n",
    "        app.config.from_pyfile('config.py', silent=True)\n",
    "    else:\n",
    "        # load the test config if passed in\n",
    "        app.config.from_mapping(test_config)\n",
    "\n",
    "    # ensure the instance folder exists\n",
    "    try:\n",
    "        os.makedirs(app.instance_path)\n",
    "    except OSError:\n",
    "        pass\n",
    "\n",
    "    # a simple page that says hello\n",
    "    @app.route('/hello')\n",
    "    def hello():\n",
    "        return 'Hello, World!'\n",
    "\n",
    "    return app"
   ]
  }
 ],
 "metadata": {
  "kernelspec": {
   "display_name": "Python 3 (ipykernel)",
   "language": "python",
   "name": "python3"
  },
  "language_info": {
   "codemirror_mode": {
    "name": "ipython",
    "version": 3
   },
   "file_extension": ".py",
   "mimetype": "text/x-python",
   "name": "python",
   "nbconvert_exporter": "python",
   "pygments_lexer": "ipython3",
   "version": "3.10.16"
  }
 },
 "nbformat": 4,
 "nbformat_minor": 5
}
