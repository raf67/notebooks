{
 "cells": [
  {
   "cell_type": "markdown",
   "id": "ecd2a7c8-bd8d-4805-820b-540296c1daaa",
   "metadata": {},
   "source": [
    "# richardfrancis set up"
   ]
  },
  {
   "cell_type": "markdown",
   "id": "529efbca-912a-404f-8e94-e16cb4611156",
   "metadata": {},
   "source": [
    "1. Check Your Node.js Installation"
   ]
  },
  {
   "cell_type": "code",
   "execution_count": null,
   "id": "36213b8f-05b8-4dfe-b782-9c00b949383f",
   "metadata": {},
   "outputs": [],
   "source": [
    "node -v\n",
    "npm -v"
   ]
  },
  {
   "cell_type": "markdown",
   "id": "327d9853-2541-4268-aae3-e0d82f58e561",
   "metadata": {},
   "source": [
    "2. Install Gulp CLI Globally"
   ]
  },
  {
   "cell_type": "code",
   "execution_count": null,
   "id": "1dbccca2-9ca0-44f4-8045-d2adfb90625d",
   "metadata": {},
   "outputs": [],
   "source": [
    "npm install -g gulp-cli"
   ]
  },
  {
   "cell_type": "markdown",
   "id": "f9d3259f-0c42-4c97-8216-645411cc0ed2",
   "metadata": {},
   "source": [
    "3. Set Up Your Project Dependencies"
   ]
  },
  {
   "cell_type": "markdown",
   "id": "cb6bf760-25f0-430f-b799-b082d3e57da1",
   "metadata": {},
   "source": [
    "- Navigate to the root directory (the folder that contains package.json) in your"
   ]
  },
  {
   "cell_type": "code",
   "execution_count": null,
   "id": "1e1c232d-4274-4497-8f4b-0c79260d6698",
   "metadata": {},
   "outputs": [],
   "source": [
    "npm install"
   ]
  },
  {
   "cell_type": "markdown",
   "id": "adca1fe0-11d2-4c75-a3ac-c3ec3a3d7018",
   "metadata": {},
   "source": [
    "- This command creates the node_modules folder and gets your project’s dependencies in place."
   ]
  },
  {
   "cell_type": "markdown",
   "id": "10c72dfb-efd0-4a9a-8f2f-6d20d3eec849",
   "metadata": {},
   "source": [
    "4. Understanding the Folder Structure"
   ]
  },
  {
   "cell_type": "markdown",
   "id": "07d97528-051a-431f-af4c-53355dc5e882",
   "metadata": {},
   "source": [
    "- Here’s a quick overview of the key folders:"
   ]
  },
  {
   "cell_type": "markdown",
   "id": "3e29e130-102d-488d-b7d8-36ef1dae9676",
   "metadata": {},
   "source": [
    "src Folder:\n",
    "Contains the uncompiled (source) files such as SCSS, JS, and HTML.\n",
    "Any customization or development happens here.\n",
    "\n",
    "dist Folder:\n",
    "Generated via build tasks (e.g., gulp build); this folder holds the compiled and ready-to-use version of the template.\n",
    "gulp-task and gulpfile.js:\n",
    "These hold the automation tasks. Running gulp commands like gulp serve, gulp sass, or gulp build uses these files.\n",
    "\n",
    "vendors Folder:\n",
    "Contains bundled third-party packages. If you modify these or add new ones, you'll update this part via the gulp tasks (like gulp bundleVendors).\n",
    "Understanding this structure helps you know what to edit (in src) and what to generate (in dist)."
   ]
  },
  {
   "cell_type": "markdown",
   "id": "fefec488-58e5-40a9-8dfc-23c2f8d672bf",
   "metadata": {},
   "source": [
    "5. Starting Your Development Server"
   ]
  },
  {
   "cell_type": "code",
   "execution_count": null,
   "id": "89e83af3-a7c2-468c-a541-837aba0dcfa1",
   "metadata": {},
   "outputs": [],
   "source": [
    "cd src"
   ]
  },
  {
   "cell_type": "code",
   "execution_count": null,
   "id": "0117a0b5-b350-4fc1-af7a-bc6c282b4f75",
   "metadata": {},
   "outputs": [],
   "source": [
    "gulp serve"
   ]
  },
  {
   "cell_type": "markdown",
   "id": "23d7ee03-3cb2-49f1-8f9e-a54ec58ad966",
   "metadata": {},
   "source": [
    "This command starts a server that automatically refreshes when you save changes. Make sure you run it from the directory where gulpfile.js is located (inside src)."
   ]
  },
  {
   "cell_type": "markdown",
   "id": "f71a55d0-10c4-4cd1-867c-f8d84d79893e",
   "metadata": {},
   "source": [
    "6. Customizing the Template"
   ]
  },
  {
   "cell_type": "markdown",
   "id": "4cf7db7c-dd33-4ea4-a245-b45908ce69e9",
   "metadata": {},
   "source": [
    "- SCSS / Sass Customization"
   ]
  },
  {
   "cell_type": "markdown",
   "id": "43387a05-f2a1-49ce-8d58-ea3faa6a1be3",
   "metadata": {},
   "source": [
    "The template is built with Sass (which compiles to CSS), making it easier to tweak styles.\n",
    "\n",
    "Create Custom Files:\n",
    "Create a folder named custom inside assets/scss.\n",
    "Inside this folder, add files such as _custom-variables.scss (for variable overrides) and _custom.scss (for new styles).\n",
    "\n",
    "Integrate Your Custom Files:\n",
    "Locate your chosen layout’s _style.scss file in the scss folder.\n",
    "\n",
    "Import your custom files:\n",
    "Place your _custom-variables.scss among the template variables section (look for a comment like /* === Import template variables === */).\n",
    "\n",
    "Import _custom.scss at the end so it overrides or adds additional styles."
   ]
  },
  {
   "cell_type": "code",
   "execution_count": null,
   "id": "6c63543b-f671-4523-b35b-9d21870edd8c",
   "metadata": {},
   "outputs": [],
   "source": [
    "gulp sass"
   ]
  },
  {
   "cell_type": "markdown",
   "id": "7b76239d-b930-4383-8aaa-b058e2816ad0",
   "metadata": {},
   "source": [
    "Injecting HTML Changes\n",
    "If you make modifications to the common components (like the navbar or sidebar) located in the partials folder:"
   ]
  },
  {
   "cell_type": "code",
   "execution_count": null,
   "id": "22ce94d4-45f8-48ab-a5f1-dcb435e8cd8b",
   "metadata": {},
   "outputs": [],
   "source": [
    "gulp inject"
   ]
  },
  {
   "cell_type": "markdown",
   "id": "0ca5e7b9-4f7a-4dbd-b2fe-d67ea4cc064b",
   "metadata": {},
   "source": [
    "Rebuilding the Distribution Folder\n",
    "After you've made your changes (HTML, Sass, or JS):"
   ]
  },
  {
   "cell_type": "code",
   "execution_count": null,
   "id": "76254419-f139-449a-a0e9-5fdca659c377",
   "metadata": {},
   "outputs": [],
   "source": [
    "gulp build"
   ]
  },
  {
   "cell_type": "markdown",
   "id": "c95508b3-53dd-4af6-9c39-f083558a49e2",
   "metadata": {},
   "source": [
    "Update/Add Packages:\n",
    "\n",
    "Use npm install package-name to add new packages.\n",
    "Then go into the gulp task file (in gulp-task/vendors.js), and add the path to the new vendor files."
   ]
  },
  {
   "cell_type": "code",
   "execution_count": null,
   "id": "cb0c099d-e127-42b9-aee9-d812823cb05d",
   "metadata": {},
   "outputs": [],
   "source": [
    "gulp bundleVendors"
   ]
  },
  {
   "cell_type": "markdown",
   "id": "edc9ad71-3e79-4f21-ad42-3ead4ec05be9",
   "metadata": {},
   "source": [
    "7. Managing Third-Party Packages (BundleVendors)"
   ]
  },
  {
   "cell_type": "markdown",
   "id": "de129faf-9159-42cb-83ca-b6496ae15aa2",
   "metadata": {},
   "source": [
    "8. Summary of Your Workflow"
   ]
  },
  {
   "cell_type": "markdown",
   "id": "85b6c1d6-5b9d-4d34-87f9-118b532aa97e",
   "metadata": {},
   "source": [
    "Node & Gulp Setup: Make sure Node.js and gulp-cli are installed.\n",
    "Dependency Installation: Run npm install in the project’s root.\n",
    "Development Server: Start gulp serve from within src to view live changes.\n",
    "\n",
    "Customization:\n",
    "Edit SCSS files (remember to create and import your custom files).\n",
    "Modify HTML partials as needed and use gulp inject.\n",
    "Build for Production: Run gulp build to create an updated dist folder.\n",
    "Managing Vendors: For changes in third-party libraries, update gulp tasks and run gulp bundleVendors.\n",
    "Taking these steps one at a time means you won’t be overwhelmed. If you run into any errors, they’ll most likely provide hints on where to adjust your commands or file paths."
   ]
  },
  {
   "cell_type": "code",
   "execution_count": null,
   "id": "d70db2bf-5a8c-4902-a8ce-27a10cb3a142",
   "metadata": {},
   "outputs": [],
   "source": []
  },
  {
   "cell_type": "markdown",
   "id": "c4439018-d09b-43d8-8304-1ff76287c66b",
   "metadata": {},
   "source": [
    "## Adopting a PHP-Capable Environment"
   ]
  },
  {
   "cell_type": "markdown",
   "id": "4bbadff8-18ac-497c-80d1-b9fa12444201",
   "metadata": {},
   "source": [
    "- Since you want to work with PHP and a database (typically MySQL), you have a couple of options:"
   ]
  },
  {
   "cell_type": "markdown",
   "id": "bf0140fa-dadb-4feb-8a93-a7bfe9c236e1",
   "metadata": {},
   "source": [
    "Using a Local PHP Server (XAMPP, MAMP, or PHP’s Built-in Server): Using a package like XAMPP is common for PHP development. XAMPP bundles Apache, PHP, and MySQL, which creates a full-stack environment for your dynamic backend needs. In this case, you’d place your project (or at least the PHP parts) inside the htdocs folder (or the equivalent on your system) so that Apache can serve and execute the PHP files.\n",
    "\n",
    "Combining Gulp with a PHP Server via Proxy: If you’d like to continue benefiting from gulp’s asset pipeline (Sass compilation, JS concatenation, live reloading, etc.) while also running a PHP server, you can configure BrowserSync to proxy your PHP server. For example, using tools like gulp-connect-php along with BrowserSync, you can set up a task that starts a PHP server and then proxies requests through BrowserSync. This way, you can enjoy live reloading and other gulp conveniences even with PHP running in the background."
   ]
  },
  {
   "cell_type": "markdown",
   "id": "04b1d338-40ba-46e9-b6ac-6eac38553f4a",
   "metadata": {},
   "source": [
    "- A simplified example might look like this:"
   ]
  },
  {
   "cell_type": "code",
   "execution_count": null,
   "id": "b0364b63-ba86-425d-a1bc-3e5bf83bc3ec",
   "metadata": {},
   "outputs": [],
   "source": [
    "// gulpfile.js snippet\n",
    "const gulp = require('gulp');\n",
    "const phpConnect = require('gulp-connect-php');\n",
    "const browserSync = require('browser-sync').create();\n",
    "\n",
    "gulp.task('serve', function() {\n",
    "  // Start the PHP server\n",
    "  phpConnect.server({ base: './src', port: 8010, keepalive: true }, function() {\n",
    "    // Once the PHP server is up, start BrowserSync to proxy the PHP server\n",
    "    browserSync.init({\n",
    "      proxy: '127.0.0.1:8010',\n",
    "      notify: false\n",
    "    });\n",
    "  });\n",
    "\n",
    "  // Watch for changes and reload BrowserSync when needed\n",
    "  gulp.watch(['./src/**/*.php', './src/assets/scss/**/*.scss', './src/assets/js/**/*.js']).on('change', browserSync.reload);\n",
    "});"
   ]
  },
  {
   "cell_type": "markdown",
   "id": "adf97010-389f-4e0d-b6ff-c0578969df0c",
   "metadata": {},
   "source": [
    "- Workflow Adjustments When Using PHP"
   ]
  },
  {
   "cell_type": "markdown",
   "id": "aca345f3-9917-47a1-a0d0-6b682d04e0c2",
   "metadata": {},
   "source": [
    "Asset Pipeline Remains the Same: You can still use commands like gulp sass or gulp build to compile your SCSS into CSS or bundle your JavaScript. Just ensure that the compiled files land where your PHP server can access them.\n",
    "\n",
    "Serving PHP Files: Instead of viewing your site via a static URL (like http://localhost:3000 with a typical gulp server), you’ll access it through your PHP server’s address (e.g., http://localhost/yourproject on XAMPP or the proxy URL if using BrowserSync in proxy mode).\n",
    "\n",
    "Integrating PHP with the Template: Since Corona Admin is originally a static template, you'll likely rename your HTML files to .php and then embed dynamic PHP code (like database queries, session management, etc.) as needed. This means carefully integrating your front-end assets with the backend logic."
   ]
  },
  {
   "cell_type": "markdown",
   "id": "81ce2bbc-39ba-4cd1-a66b-77c6eca45883",
   "metadata": {},
   "source": [
    "## MongoDB can definitely be an intriguing alternative to MySQL"
   ]
  },
  {
   "cell_type": "markdown",
   "id": "5fe25f57-0fd4-4262-9414-ae3b32f13df4",
   "metadata": {},
   "source": [
    "Flexibility Over Fixed Schema\n",
    "One of the biggest draws of MongoDB is its document-based, schema-less design. This allows you to store data in JSON-like documents where each record doesn't have to follow a rigid structure. For projects that may evolve or where data can vary widely, this flexibility can simplify development and make adjustments smoother over time.\n",
    "\n",
    "Seamless Integration with Node.js\n",
    "Given that you're working in a Node.js environment, MongoDB's JSON-like structure is a natural match. Many developers use Mongoose, an Object Data Modeling (ODM) library, to take advantage of MongoDB's capabilities while still benefiting from schema validations and additional utility functions. This integration can streamline your workflow, making data retrieval and manipulation feel intuitive when you're dealing with JavaScript objects.\n",
    "\n",
    "Reliability and Scalability\n",
    "MongoDB has come a long way, incorporating robust features such as multi-document transactions (since version 4.0) and strong replication setups for enhanced reliability. If configured properly, MongoDB can be not only flexible but also very reliable. Plus, its ability to scale horizontally can be advantageous if you anticipate a growing amount of data or higher loads in the future.\n",
    "\n",
    "A Learning Curve to Embrace\n",
    "Switching from MySQL, a relational database, to MongoDB means embracing a different way of thinking about data. You won’t be writing typical SQL queries; instead, you'll work with MongoDB's query language and aggregation framework. This can be a bit challenging at first, but it also opens up avenues for creative solutions, especially when dealing with complex data structures that don’t fit neatly into tables.\n",
    "\n",
    "Final Considerations\n",
    "Use Case: Consider whether your project benefits more from a flexible, schema-less approach (ideal for dynamic data) or from the transactional guarantees and relational integrity that MySQL provides.\n",
    "\n",
    "Experimentation: If you're torn between the two, you might experiment with MongoDB on a smaller module or prototype within your project. This way, you can gradually get accustomed to its quirks and strengths without committing to a full migration right away.\n",
    "\n",
    "Community and Support: MongoDB has a vibrant community and extensive documentation, which means additional support if you run into issues or need advanced configurations.\n",
    "\n",
    "Overall, if reliability and flexibility are your priorities, and you're ready for a learning curve, MongoDB could be a robust upgrade for your system. It might take a bit more upfront effort to set up and refactor some of your thinking about data management, but the long-term benefits, especially in a Node.js ecosystem, could be substantial."
   ]
  },
  {
   "cell_type": "code",
   "execution_count": null,
   "id": "c6496e47-5383-4455-896e-bf519dfeda1e",
   "metadata": {},
   "outputs": [],
   "source": []
  },
  {
   "cell_type": "markdown",
   "id": "df6fbf72-16f4-4703-9973-f1faab8099d3",
   "metadata": {},
   "source": [
    "1. Download MongoDB"
   ]
  },
  {
   "cell_type": "markdown",
   "id": "aad1d4ad-d3c4-481a-bf64-de3dd79e3d1c",
   "metadata": {},
   "source": [
    "2. Run the Installer with a Custom Installation Path"
   ]
  },
  {
   "cell_type": "markdown",
   "id": "238bba7c-fff5-47cb-a952-194719e863dc",
   "metadata": {},
   "source": [
    "3. Configure the Data Directory"
   ]
  },
  {
   "cell_type": "markdown",
   "id": "3b98e878-0e45-48ee-8239-6968755bad9d",
   "metadata": {},
   "source": [
    "Create a Folder: For example, create D:\\data\\db (or you might choose a path like D:\\MongoDB\\data\\db for consistency)."
   ]
  },
  {
   "cell_type": "markdown",
   "id": "5028adcf-ad54-4b67-a27f-1d9fa0e93e89",
   "metadata": {},
   "source": [
    "Running MongoDB with a Custom Data Folder: Open a Command Prompt and run the following command (adjust the path if you chose a different location):"
   ]
  },
  {
   "cell_type": "code",
   "execution_count": null,
   "id": "029130bf-fa4e-440c-a481-133f00be8a2e",
   "metadata": {},
   "outputs": [],
   "source": [
    "mongod --config \"D:\\MongoDB\\mongod.cfg\" --install"
   ]
  },
  {
   "cell_type": "markdown",
   "id": "8ce42bbd-01a6-4591-a8e2-98183414a34a",
   "metadata": {},
   "source": [
    "If you prefer a permanent configuration, you can modify or create a configuration file (e.g., mongod.cfg) with these contents:"
   ]
  },
  {
   "cell_type": "markdown",
   "id": "1224c2fe-bae3-4d3d-8cbe-3c8c675875f2",
   "metadata": {},
   "source": [
    "storage:\n",
    "  dbPath: D:\\MongoDB\\data\\db\n",
    "systemLog:\n",
    "  destination: file\n",
    "  path: D:\\MongoDB\\log\\mongod.log\n",
    "net:\n",
    "  bindIp: 127.0.0.1\n",
    "  port: 27017"
   ]
  },
  {
   "cell_type": "markdown",
   "id": "8069ce39-faa8-4ead-8d94-8d470bc8132d",
   "metadata": {},
   "source": [
    "- Navigate to MongoDB’s bin Directory"
   ]
  },
  {
   "cell_type": "code",
   "execution_count": null,
   "id": "bff360b9-7e45-4a91-98d4-2f5e1dd5e861",
   "metadata": {},
   "outputs": [],
   "source": [
    "cd D:\\MongoDB\\bin\n",
    "mongod --config \"D:\\MongoDB\\mongod.cfg\" --install"
   ]
  },
  {
   "cell_type": "markdown",
   "id": "c8938315-f769-45a2-b40a-a7446478d0f5",
   "metadata": {},
   "source": [
    "## Add MongoDB to System PATH (So It Works Globally)"
   ]
  },
  {
   "cell_type": "markdown",
   "id": "12a8dfaf-9ebe-4c1e-8b9e-a1033711c514",
   "metadata": {},
   "source": [
    "If you want to run MongoDB commands from anywhere, you need to add its bin directory to your system’s PATH.\n",
    "\n",
    "Win + S and search for “Environment Variables.”\n",
    "\n",
    "Click Edit the system environment variables.\n",
    "\n",
    "In the System Properties window, click Environment Variables.\n",
    "\n",
    "Locate the Path variable under System Variables and click Edit.\n",
    "\n",
    "Click New, then enter: D:\\MongoDB\\bin\n",
    "\n",
    "Click OK, close all windows, and restart your terminal.\n",
    "\n",
    "After this, you should be able to run mongod from any directory."
   ]
  },
  {
   "cell_type": "code",
   "execution_count": null,
   "id": "18c62a71-da07-4b79-87ab-8774d928e634",
   "metadata": {},
   "outputs": [],
   "source": [
    "mongosh"
   ]
  },
  {
   "cell_type": "markdown",
   "id": "72dc2d96-3a06-413c-8efd-504ecc14c6ea",
   "metadata": {},
   "source": [
    "##3 Creating and Listing Databases"
   ]
  },
  {
   "cell_type": "markdown",
   "id": "11d679bb-5de3-424d-9243-1a6a28f7d549",
   "metadata": {},
   "source": [
    "a. View Existing Databases"
   ]
  },
  {
   "cell_type": "code",
   "execution_count": null,
   "id": "823aa078-9e49-4441-a30d-7d4a82930a27",
   "metadata": {},
   "outputs": [],
   "source": [
    "show dbs"
   ]
  },
  {
   "cell_type": "markdown",
   "id": "a2038ae7-7df6-40ce-9d70-a7ed3c2ec84f",
   "metadata": {},
   "source": [
    "b. Create and Use a New Database"
   ]
  },
  {
   "cell_type": "code",
   "execution_count": null,
   "id": "20a598ab-02ea-410d-881e-ab77b31fae73",
   "metadata": {},
   "outputs": [],
   "source": [
    "use myNewDatabase"
   ]
  },
  {
   "cell_type": "markdown",
   "id": "1fafb816-392b-40b4-a2f7-635b78d0fae8",
   "metadata": {},
   "source": [
    "c. Create a Collection and Insert a Document"
   ]
  },
  {
   "cell_type": "code",
   "execution_count": null,
   "id": "d283a942-f7c3-457c-a111-b5783931ac27",
   "metadata": {},
   "outputs": [],
   "source": [
    "db.users.insertOne({ name: \"Richard\", age: 57, email: \"richardfrancis1967@outlook.com\" })"
   ]
  },
  {
   "cell_type": "markdown",
   "id": "46d6de6f-93b3-4c4a-bbd5-c80bd5c693d5",
   "metadata": {},
   "source": [
    "d. Retrieve Documents"
   ]
  },
  {
   "cell_type": "code",
   "execution_count": null,
   "id": "a62a829d-8964-4f96-8b37-7f4584657261",
   "metadata": {},
   "outputs": [],
   "source": [
    "db.users.find()"
   ]
  },
  {
   "cell_type": "code",
   "execution_count": null,
   "id": "b8102220-bc2a-4b29-a4d0-08537e59c24a",
   "metadata": {},
   "outputs": [],
   "source": [
    "show dbs"
   ]
  },
  {
   "cell_type": "code",
   "execution_count": null,
   "id": "126d58b6-3a96-498d-af98-ef918305ad36",
   "metadata": {},
   "outputs": [],
   "source": []
  },
  {
   "cell_type": "markdown",
   "id": "4bfc7c08-6efa-40f6-89a9-ef2fa2d919c0",
   "metadata": {},
   "source": [
    "### Step 1: Importing Your Excel Data into MongoDB"
   ]
  },
  {
   "cell_type": "markdown",
   "id": "36f7a019-1447-4963-b272-846d01dcae19",
   "metadata": {},
   "source": [
    "Export Your Excel File as CSV\n",
    "\n",
    "Open your Excel file.\n",
    "\n",
    "Click File > Save As.\n",
    "\n",
    "Choose CSV (Comma Separated Values) as the format."
   ]
  },
  {
   "cell_type": "markdown",
   "id": "1b449eb9-41d5-4e4b-8c0a-00ce5e8eec9d",
   "metadata": {},
   "source": [
    "Save it in a convenient location (e.g., D:\\MongoDB\\import_data.csv)."
   ]
  },
  {
   "cell_type": "markdown",
   "id": "870f8606-094d-4ac5-958a-535ef9a4c466",
   "metadata": {},
   "source": [
    "Convert CSV to JSON (Optional)\n",
    "\n",
    "MongoDB works best with JSON documents, so you might need to convert your CSV file into JSON.\n",
    "\n",
    "If your data is simple, we can import it directly, but let’s check its structure first."
   ]
  },
  {
   "cell_type": "markdown",
   "id": "c2217e18-606b-4e5a-b360-bab829113116",
   "metadata": {},
   "source": [
    "### Step 2: Import CSV into MongoDB"
   ]
  },
  {
   "cell_type": "markdown",
   "id": "d77f1d5e-1f0c-4e3a-9684-839416b94e42",
   "metadata": {},
   "source": [
    "a. Verify CSV Encoding\n",
    "Open your CSV file in Notepad or Excel.\n",
    "\n",
    "Try saving it with UTF-8 encoding, since MongoDB works well with Unicode.\n",
    "\n",
    "When saving, select CSV UTF-8 (Comma delimited)."
   ]
  },
  {
   "cell_type": "code",
   "execution_count": null,
   "id": "82966e09-d4c0-43d4-bde5-bf45361369ca",
   "metadata": {},
   "outputs": [],
   "source": [
    "b. Check Column Headers\n",
    "Make sure the first row contains column names (e.g., name,email,age).\n",
    "\n",
    "Each subsequent row should contain corresponding values."
   ]
  },
  {
   "cell_type": "markdown",
   "id": "415d876d-ae65-40df-a954-4de71bf637f0",
   "metadata": {},
   "source": [
    "#### Preview data"
   ]
  },
  {
   "cell_type": "code",
   "execution_count": 2,
   "id": "3ce10083-8b2b-45a2-9b46-fc3cecadc830",
   "metadata": {},
   "outputs": [
    {
     "name": "stdout",
     "output_type": "stream",
     "text": [
      "                                              league  \\\n",
      "0  {\"id\":4,\"name\":\"Euro Championship\",\"type\":\"Cup...   \n",
      "1  {\"id\":21,\"name\":\"Confederations Cup\",\"type\":\"C...   \n",
      "2  {\"id\":61,\"name\":\"Ligue 1\",\"type\":\"League\",\"log...   \n",
      "3  {\"id\":144,\"name\":\"Jupiler Pro League\",\"type\":\"...   \n",
      "4  {\"id\":71,\"name\":\"Serie A\",\"type\":\"League\",\"log...   \n",
      "\n",
      "                                             country  \\\n",
      "0           {\"name\":\"World\",\"code\":null,\"flag\":null}   \n",
      "1           {\"name\":\"World\",\"code\":null,\"flag\":null}   \n",
      "2  {\"name\":\"France\",\"code\":\"FR\",\"flag\":\"https:\\/\\...   \n",
      "3  {\"name\":\"Belgium\",\"code\":\"BE\",\"flag\":\"https:\\/...   \n",
      "4  {\"name\":\"Brazil\",\"code\":\"BR\",\"flag\":\"https:\\/\\...   \n",
      "\n",
      "                                             seasons  \n",
      "0  [{\"year\":2008,\"start\":\"2008-06-07\",\"end\":\"2008...  \n",
      "1  [{\"year\":2009,\"start\":\"2009-06-14\",\"end\":\"2009...  \n",
      "2  [{\"year\":2010,\"start\":\"2010-08-07\",\"end\":\"2011...  \n",
      "3  [{\"year\":2010,\"start\":\"2010-07-30\",\"end\":\"2011...  \n",
      "4  [{\"year\":2010,\"start\":\"2010-05-08\",\"end\":\"2010...  \n"
     ]
    }
   ],
   "source": [
    "import pandas as pd\n",
    "\n",
    "df = pd.read_csv(\"api_data.csv\")\n",
    "print(df.head())  # Displays first few rows"
   ]
  },
  {
   "cell_type": "markdown",
   "id": "461a66eb-b81d-402e-a5b1-df5324efd06a",
   "metadata": {},
   "source": [
    "#### Run the MongoDB Import Command"
   ]
  },
  {
   "cell_type": "markdown",
   "id": "271e6291-0eed-412b-abf7-ebc2e1ddb2fb",
   "metadata": {},
   "source": [
    "mongoimport --db myDatabase --collection excelData --type csv --headerline --file D:\\MongoDB\\api_data.csv"
   ]
  },
  {
   "cell_type": "markdown",
   "id": "3e307781-71a6-46eb-a3bc-8f8ce7bbe505",
   "metadata": {},
   "source": [
    "- Imports the data into myDatabase.\n",
    "- Creates a collection called excelData.\n",
    "- Reads the first row as headers (column names).\n",
    "Loads data from the specified CSV file.\n",
    "\n",
    "If your CSV file has proper headers (column names like name, age, email), MongoDB will correctly map them into documents."
   ]
  },
  {
   "cell_type": "markdown",
   "id": "b456b20d-4297-431d-9643-6815838d7433",
   "metadata": {},
   "source": [
    "#### Alternative JSON Import"
   ]
  },
  {
   "cell_type": "code",
   "execution_count": 8,
   "id": "a8ed3eac-01dc-431e-a8bb-7c26e1a12540",
   "metadata": {},
   "outputs": [
    {
     "name": "stdout",
     "output_type": "stream",
     "text": [
      "JSON file created successfully!\n"
     ]
    }
   ],
   "source": [
    "import pandas as pd\n",
    "\n",
    "# Load the CSV file\n",
    "df = pd.read_csv(\"api_data.csv\")\n",
    "\n",
    "# Convert DataFrame to JSON format (MongoDB-friendly)\n",
    "df.to_json(\"api_data.json\", orient=\"records\", indent=4)\n",
    "\n",
    "print(\"JSON file created successfully!\")"
   ]
  },
  {
   "cell_type": "code",
   "execution_count": null,
   "id": "03506f15-d54d-439a-9b05-71938885afe7",
   "metadata": {},
   "outputs": [],
   "source": [
    "# Now run:\n",
    "mongoimport --db myDatabase --collection excelData --file D:\\Richard\\Notebook\\api_data.json --jsonArray"
   ]
  },
  {
   "cell_type": "markdown",
   "id": "be16b982-32c9-4fce-9bc8-1ca70c7924f5",
   "metadata": {},
   "source": [
    "#### Verify the Import in MongoDB"
   ]
  },
  {
   "cell_type": "code",
   "execution_count": null,
   "id": "fb50ae2a-d4f3-4b23-9e82-28104eca39e2",
   "metadata": {},
   "outputs": [],
   "source": [
    "mongosh\n",
    "use myDatabase\n",
    "db.excelData.find().pretty()"
   ]
  },
  {
   "cell_type": "markdown",
   "id": "bf878f47-114f-4674-9c3b-e62710795b80",
   "metadata": {},
   "source": [
    "This ensures your data is stored correctly, maintaining nested objects (like \"country\" and \"seasons\") in their original structure."
   ]
  },
  {
   "cell_type": "markdown",
   "id": "6643fa1e-cf54-472e-9792-404ac6a27738",
   "metadata": {},
   "source": [
    "### Step 3: Verify the Data in MongoDB"
   ]
  },
  {
   "cell_type": "code",
   "execution_count": null,
   "id": "460726a7-5082-4c4c-bcc0-30b5dd9a1f61",
   "metadata": {},
   "outputs": [],
   "source": [
    "use myDatabase\n",
    "db.excelData.find().pretty()"
   ]
  },
  {
   "cell_type": "markdown",
   "id": "876df107-42a1-4d61-87d6-3f0a7ae3bd07",
   "metadata": {},
   "source": [
    "### Step 4: Structuring Data for MongoDB"
   ]
  },
  {
   "cell_type": "markdown",
   "id": "60eb5db1-9753-4de2-9372-5d7c41756b22",
   "metadata": {},
   "source": [
    "Excel works in rows and columns, while MongoDB stores data as documents (JSON-like objects). If you’d like to transform your existing spreadsheet into a MongoDB-friendly structure, we can discuss best practices for organizing related data efficiently."
   ]
  },
  {
   "cell_type": "markdown",
   "id": "74edb170-8394-42d0-bda8-b239012cfc26",
   "metadata": {},
   "source": [
    "4. Integrate with Node.js via Mongoose"
   ]
  },
  {
   "cell_type": "markdown",
   "id": "d6394a7f-d6bf-4676-8bfd-fb543538beb1",
   "metadata": {},
   "source": [
    "### Step1: Install Mongoose and Connect to MongoDB"
   ]
  },
  {
   "cell_type": "code",
   "execution_count": null,
   "id": "5e67359a-06d5-4593-b24d-a1eaf1a8e98c",
   "metadata": {},
   "outputs": [],
   "source": [
    "npm install mongoose"
   ]
  },
  {
   "cell_type": "markdown",
   "id": "ceb8b9da-5efa-453b-bff7-74f3d3d39def",
   "metadata": {},
   "source": [
    "- This will add Mongoose as a dependency in package.json."
   ]
  },
  {
   "cell_type": "markdown",
   "id": "d92d891f-33e8-4ca0-825d-bb22bf4f3512",
   "metadata": {},
   "source": [
    "#### issues highlighted by the system"
   ]
  },
  {
   "cell_type": "code",
   "execution_count": null,
   "id": "207fdf61-932e-4387-a03b-33ed25c93565",
   "metadata": {},
   "outputs": [],
   "source": [
    "- Apply Safe Fixes First"
   ]
  },
  {
   "cell_type": "code",
   "execution_count": null,
   "id": "96065fa5-ae89-43b7-b14c-fd3f84c48819",
   "metadata": {},
   "outputs": [],
   "source": [
    "npm audit fix"
   ]
  },
  {
   "cell_type": "markdown",
   "id": "ecbd664f-ead6-47d7-8589-49adf10ef710",
   "metadata": {},
   "source": [
    "a Assess Remaining Issues"
   ]
  },
  {
   "cell_type": "code",
   "execution_count": null,
   "id": "d46b46d1-321b-4fe8-8dfe-50f204fe5f50",
   "metadata": {},
   "outputs": [],
   "source": [
    "- Carefully Apply --force (If Needed)"
   ]
  },
  {
   "cell_type": "code",
   "execution_count": null,
   "id": "7f694889-866e-4055-8974-20084c7af65b",
   "metadata": {},
   "outputs": [],
   "source": [
    "npm audit fix --force"
   ]
  },
  {
   "cell_type": "code",
   "execution_count": null,
   "id": "4d0499f5-87bc-433d-8237-8d4ec024f800",
   "metadata": {},
   "outputs": [],
   "source": [
    "D:\\xampp\\htdocs\\richardfrancis>npm audit fix --force\n",
    "npm warn using --force Recommended protections disabled.\n",
    "npm warn audit No fix available for jquery-file-upload@*\n",
    "npm warn audit Updating bootstrap-maxlength to 2.0.0, which is a SemVer major change.\n",
    "npm warn audit Updating gulp-util to 1.0.0, which is a SemVer major change.\n",
    "npm warn audit Updating gulp-notify to 5.0.0, which is a SemVer major change.\n",
    "npm warn audit No fix available for gulp-htmlmin@*\n",
    "npm warn audit Updating browser-sync to 3.0.4, which is a SemVer major change.\n",
    "npm warn audit Updating gulp-sourcemaps to 2.6.5, which is a SemVer major change.\n",
    "npm warn audit Updating gulp to 5.0.0, which is a SemVer major change.\n",
    "npm warn deprecated source-map-resolve@0.5.3: See https://github.com/lydell/source-map-resolve#deprecated\n",
    "npm warn deprecated gulp-util@1.0.0: gulp-util is deprecated - replace it, following the guidelines at https://medium.com/gulpjs/gulp-util-ca3b1f9f9ac5"
   ]
  },
  {
   "cell_type": "code",
   "execution_count": null,
   "id": "f034bb7f-5941-4bc6-b1bf-4fff0e0df876",
   "metadata": {
    "editable": true,
    "slideshow": {
     "slide_type": ""
    },
    "tags": []
   },
   "outputs": [],
   "source": [
    "npm audit report"
   ]
  },
  {
   "cell_type": "markdown",
   "id": "215f2b9b-2530-4b24-91dc-c458c000f233",
   "metadata": {
    "editable": true,
    "slideshow": {
     "slide_type": ""
    },
    "tags": []
   },
   "source": [
    "html-minifier  *\n",
    "Severity: high\n",
    "kangax html-minifier REDoS vulnerability - https://github.com/advisories/GHSA-pfq8-rq6v-vf5m\n",
    "No fix available\n",
    "node_modules/html-minifier\n",
    "  gulp-htmlmin  *\n",
    "  Depends on vulnerable versions of html-minifier\n",
    "  node_modules/gulp-htmlmin\n",
    "\n",
    "jquery-file-upload  *\n",
    "Severity: moderate\n",
    "jQuery-Upload-File XSS in fileNameStr - https://github.com/advisories/GHSA-43x9-7hfv-mxrf\n",
    "No fix available\n",
    "node_modules/jquery-file-upload\n",
    "\n",
    "3 vulnerabilities (1 moderate, 2 high)\n",
    "\n",
    "Some issues need review, and may require choosing\n",
    "a different dependency.\n",
    "\n",
    "D:\\xampp\\htdocs\\richardfrancis>"
   ]
  },
  {
   "cell_type": "markdown",
   "id": "b91a22fb-815e-49bd-b847-2eff29625f8a",
   "metadata": {
    "editable": true,
    "slideshow": {
     "slide_type": ""
    },
    "tags": []
   },
   "source": [
    "b. Manually Upgrade Key Packages"
   ]
  },
  {
   "cell_type": "markdown",
   "id": "f8b03791-1dd1-4b61-88d3-cbdbd5ead969",
   "metadata": {
    "editable": true,
    "slideshow": {
     "slide_type": ""
    },
    "tags": []
   },
   "source": [
    "Replace Vulnerable Dependencies\n",
    "Since html-minifier and jquery-file-upload have no direct fixes, consider switching to actively maintained alternatives:\n",
    "\n",
    "1️⃣ Replace html-minifier with html-minifier-terser (a safer, actively maintained version):"
   ]
  },
  {
   "cell_type": "code",
   "execution_count": null,
   "id": "9320887d-a96b-4753-9cab-a4c443ddb2d2",
   "metadata": {
    "editable": true,
    "slideshow": {
     "slide_type": ""
    },
    "tags": []
   },
   "outputs": [],
   "source": [
    "npm install html-minifier-terser"
   ]
  },
  {
   "cell_type": "markdown",
   "id": "6895945a-37e4-410c-94c6-efc128eeaab4",
   "metadata": {
    "editable": true,
    "slideshow": {
     "slide_type": ""
    },
    "tags": []
   },
   "source": [
    "Then, update your gulp-htmlmin configuration to use html-minifier-terser.\n",
    "\n",
    "2️⃣ Replace jquery-file-upload with jQuery-Upload-File-Next or jqvmap (both more secure alternatives):"
   ]
  },
  {
   "cell_type": "code",
   "execution_count": null,
   "id": "8f901683-06c2-41ea-b5d1-b5ed1487ea04",
   "metadata": {
    "editable": true,
    "slideshow": {
     "slide_type": ""
    },
    "tags": []
   },
   "outputs": [],
   "source": [
    "npm outdated\n",
    "npm update"
   ]
  },
  {
   "cell_type": "code",
   "execution_count": null,
   "id": "f22773e9-5da8-4b8e-a70e-792ee947bd87",
   "metadata": {
    "editable": true,
    "slideshow": {
     "slide_type": ""
    },
    "tags": []
   },
   "outputs": [],
   "source": [
    "npm install blueimp-file-upload"
   ]
  },
  {
   "cell_type": "markdown",
   "id": "3f32b746-9851-4a1b-9d92-bdef0041e7b6",
   "metadata": {
    "editable": true,
    "slideshow": {
     "slide_type": ""
    },
    "tags": []
   },
   "source": [
    "Remove Vulnerable Packages (If Not Needed)\n",
    "If html-minifier or jquery-file-upload aren’t essential to your project, remove them:"
   ]
  },
  {
   "cell_type": "code",
   "execution_count": null,
   "id": "a8df953a-a44f-4ecb-8002-08adca117d5a",
   "metadata": {
    "editable": true,
    "slideshow": {
     "slide_type": ""
    },
    "tags": []
   },
   "outputs": [],
   "source": [
    "npm uninstall html-minifier"
   ]
  },
  {
   "cell_type": "code",
   "execution_count": null,
   "id": "2da6b362-2b97-4f94-a400-77a12ae25ba4",
   "metadata": {
    "editable": true,
    "slideshow": {
     "slide_type": ""
    },
    "tags": []
   },
   "outputs": [],
   "source": []
  },
  {
   "cell_type": "code",
   "execution_count": null,
   "id": "6e15f827-3778-4c49-a9a3-97793a53aa9a",
   "metadata": {
    "editable": true,
    "slideshow": {
     "slide_type": ""
    },
    "tags": []
   },
   "outputs": [],
   "source": [
    "npm audit"
   ]
  },
  {
   "cell_type": "markdown",
   "id": "f763aa70-f4c7-464f-b879-86c8e27f3935",
   "metadata": {
    "editable": true,
    "slideshow": {
     "slide_type": ""
    },
    "tags": []
   },
   "source": [
    "Manually Review\n",
    "If alternatives don’t work, check:\n",
    "\n",
    "Does your code directly depend on these packages? If not, uninstall them.\n",
    "\n",
    "Does another package depend on them? Run:"
   ]
  },
  {
   "cell_type": "code",
   "execution_count": null,
   "id": "25a7a753-3f8a-4074-a2ee-f745ed9aee8a",
   "metadata": {
    "editable": true,
    "slideshow": {
     "slide_type": ""
    },
    "tags": []
   },
   "outputs": [],
   "source": [
    "npm ls html-minifier\n",
    "npm ls jquery-file-upload"
   ]
  },
  {
   "cell_type": "code",
   "execution_count": null,
   "id": "236afa3b-f650-44df-8fda-4fb1c828c12c",
   "metadata": {},
   "outputs": [],
   "source": [
    "npm install lodash.template@latest minimist@latest"
   ]
  },
  {
   "cell_type": "code",
   "execution_count": null,
   "id": "a478b6bb-450c-4a11-b1d0-d1c557540a75",
   "metadata": {
    "editable": true,
    "slideshow": {
     "slide_type": ""
    },
    "tags": []
   },
   "outputs": [],
   "source": [
    "npm install axios@latest bootstrap@latest lodash.template@latest postcss@latest"
   ]
  },
  {
   "cell_type": "code",
   "execution_count": null,
   "id": "b34bc8a1-291b-4e10-b2fe-ca6ca2cf0c45",
   "metadata": {
    "editable": true,
    "slideshow": {
     "slide_type": ""
    },
    "tags": []
   },
   "outputs": [],
   "source": []
  },
  {
   "cell_type": "code",
   "execution_count": null,
   "id": "521fec74-435f-4c46-a392-17c0635ab476",
   "metadata": {
    "editable": true,
    "raw_mimetype": "",
    "slideshow": {
     "slide_type": ""
    },
    "tags": []
   },
   "outputs": [],
   "source": [
    "Assess gulp-util gulp-util is deprecated, and the community suggests replacing it with:\n",
    "\n",
    "replace gulp-util with individual modules\n",
    "\n",
    "Alternatives like vinyl, fancy-log, ansi-colors, and replace-stream\n",
    "\n",
    "3️⃣ Upgrade Critical Packages Manually"
   ]
  },
  {
   "cell_type": "code",
   "execution_count": null,
   "id": "22f72046-71e7-4c61-906d-c9fbe9684d41",
   "metadata": {
    "editable": true,
    "slideshow": {
     "slide_type": ""
    },
    "tags": []
   },
   "outputs": [],
   "source": []
  },
  {
   "cell_type": "code",
   "execution_count": null,
   "id": "e203a94b-0ebb-44fe-b2e7-bfb96c4b617d",
   "metadata": {
    "editable": true,
    "slideshow": {
     "slide_type": ""
    },
    "tags": []
   },
   "outputs": [],
   "source": [
    "npm update"
   ]
  },
  {
   "cell_type": "markdown",
   "id": "b910f227-5651-4220-bf27-e271b2f8b503",
   "metadata": {
    "editable": true,
    "slideshow": {
     "slide_type": ""
    },
    "tags": []
   },
   "source": [
    "- Verify Everything"
   ]
  },
  {
   "cell_type": "code",
   "execution_count": null,
   "id": "72c4909a-382c-4901-95ca-0da27b38318e",
   "metadata": {
    "editable": true,
    "slideshow": {
     "slide_type": ""
    },
    "tags": []
   },
   "outputs": [],
   "source": [
    "npm audit"
   ]
  },
  {
   "cell_type": "markdown",
   "id": "661ef391-f13b-4fd8-be30-3828ed0e5c35",
   "metadata": {
    "editable": true,
    "slideshow": {
     "slide_type": ""
    },
    "tags": []
   },
   "source": [
    "#### Create a MongoDB Connection"
   ]
  },
  {
   "cell_type": "markdown",
   "id": "4ccceb4a-25ba-4219-a52e-bf583520927f",
   "metadata": {
    "editable": true,
    "slideshow": {
     "slide_type": ""
    },
    "tags": []
   },
   "source": [
    "Inside your project, create a new file named database.js (or integrate this into your main app file) and add:"
   ]
  },
  {
   "cell_type": "code",
   "execution_count": null,
   "id": "20018ae4-b140-49f6-8e78-a13769c82ccf",
   "metadata": {
    "editable": true,
    "slideshow": {
     "slide_type": ""
    },
    "tags": []
   },
   "outputs": [],
   "source": [
    "const mongoose = require('mongoose');\n",
    "\n",
    "mongoose.connect('mongodb://127.0.0.1:27017/mydatabase', {\n",
    "  useNewUrlParser: true,\n",
    "  useUnifiedTopology: true\n",
    "})\n",
    ".then(() => console.log('MongoDB connected successfully'))\n",
    ".catch(err => console.error('Connection error:', err));\n"
   ]
  },
  {
   "cell_type": "markdown",
   "id": "d57ca921-37fa-45f3-931b-42f1e0db0dbe",
   "metadata": {
    "editable": true,
    "slideshow": {
     "slide_type": ""
    },
    "tags": []
   },
   "source": [
    "- mongodb://127.0.0.1:27017/mydatabase: Connects to your local MongoDB instance.\n",
    "- useNewUrlParser: true, useUnifiedTopology: true: Prevents deprecated warnings.\n",
    "- .then() and .catch(): Ensures we log whether the connection is successful or if an error occurs."
   ]
  },
  {
   "cell_type": "markdown",
   "id": "3bc8db44-5ad8-4f64-a407-bd8c6650de13",
   "metadata": {
    "editable": true,
    "slideshow": {
     "slide_type": ""
    },
    "tags": []
   },
   "source": [
    "#### Test This Connection: Run the file using:"
   ]
  },
  {
   "cell_type": "code",
   "execution_count": null,
   "id": "338cb8f6-8da6-4beb-9d6f-fbae3cbb4a36",
   "metadata": {
    "editable": true,
    "slideshow": {
     "slide_type": ""
    },
    "tags": []
   },
   "outputs": [],
   "source": [
    "node database.js"
   ]
  },
  {
   "cell_type": "markdown",
   "id": "82c93ee3-6dbb-4175-80e5-eebb98f581c5",
   "metadata": {
    "editable": true,
    "slideshow": {
     "slide_type": ""
    },
    "tags": []
   },
   "source": [
    "### Step 2: Define a Mongoose Schema and Model"
   ]
  },
  {
   "cell_type": "markdown",
   "id": "3f40d237-2477-4149-9674-521a5225103f",
   "metadata": {
    "editable": true,
    "slideshow": {
     "slide_type": ""
    },
    "tags": []
   },
   "source": [
    "MongoDB stores data as documents, but to enforce consistency, Mongoose lets you define schemas.\n",
    "\n",
    "Create a models Folder\n",
    "Inside your project, create a folder named models to keep database models organized.\n",
    "\n",
    "Define a Schema (Example: Users)\n",
    "Create a new file inside models/ named User.js:"
   ]
  },
  {
   "cell_type": "code",
   "execution_count": null,
   "id": "e8c0a279-19d7-4bda-a48b-a2708c8bbb9f",
   "metadata": {
    "editable": true,
    "slideshow": {
     "slide_type": ""
    },
    "tags": []
   },
   "outputs": [],
   "source": [
    "const mongoose = require('mongoose');\n",
    "\n",
    "const userSchema = new mongoose.Schema({\n",
    "  name: { type: String, required: true },\n",
    "  age: { type: Number, required: true },\n",
    "  email: { type: String, required: true, unique: true }\n",
    "}, { timestamps: true });\n",
    "\n",
    "const User = mongoose.model('User', userSchema);\n",
    "\n",
    "module.exports = User;"
   ]
  },
  {
   "cell_type": "markdown",
   "id": "dfd4c8fe-592b-4e07-873c-4510b4ae7dc5",
   "metadata": {},
   "source": [
    "#### Key Features"
   ]
  },
  {
   "cell_type": "markdown",
   "id": "ff1f04c7-7098-49a3-8061-8025c09a10cd",
   "metadata": {
    "editable": true,
    "slideshow": {
     "slide_type": ""
    },
    "tags": []
   },
   "source": [
    "- Defines a structured format for user documents.\n",
    "- required: true ensures necessary fields are always filled.\n",
    "- unique: true prevents duplicate emails.\n",
    "- timestamps: true auto-generates createdAt & updatedAt."
   ]
  },
  {
   "cell_type": "markdown",
   "id": "cd093423-1e39-4a7b-bd2f-642f76765cb4",
   "metadata": {
    "editable": true,
    "slideshow": {
     "slide_type": ""
    },
    "tags": []
   },
   "source": [
    "#### Create a New User"
   ]
  },
  {
   "cell_type": "markdown",
   "id": "4e2b82b7-fb3f-4597-8e78-40bce9741a50",
   "metadata": {
    "editable": true,
    "slideshow": {
     "slide_type": ""
    },
    "tags": []
   },
   "source": [
    "- In your main app file (database.js or app.js), import the model and add:"
   ]
  },
  {
   "cell_type": "code",
   "execution_count": null,
   "id": "660fc05d-98ed-48b4-bc39-06b93e04eeea",
   "metadata": {
    "editable": true,
    "slideshow": {
     "slide_type": ""
    },
    "tags": []
   },
   "outputs": [],
   "source": [
    "const mongoose = require('mongoose');\n",
    "const User = require('./models/User');\n",
    "\n",
    "mongoose.connect('mongodb://127.0.0.1:27017/myDatabase')\n",
    ".then(() => {\n",
    "  console.log('✅ MongoDB connected successfully');\n",
    "  createUser(); // Call createUser AFTER connection is confirmed\n",
    "})\n",
    ".catch(err => console.error('❌ Connection error:', err));\n",
    "\n",
    "async function createUser() {\n",
    "  try {\n",
    "    const user = new User({\n",
    "      name: \"Richard\",\n",
    "      age: 42,\n",
    "      email: \"richard@example.com\"\n",
    "    });\n",
    "\n",
    "    await user.save();\n",
    "    console.log(\"✅ User saved successfully:\", user);\n",
    "  } catch (err) {\n",
    "    console.error(\"❌ Error saving user:\", err);\n",
    "  }\n",
    "}"
   ]
  },
  {
   "cell_type": "code",
   "execution_count": null,
   "id": "1c38309f-d6b1-4b9b-94d9-00d1de0fcbcc",
   "metadata": {
    "editable": true,
    "slideshow": {
     "slide_type": ""
    },
    "tags": []
   },
   "outputs": [],
   "source": [
    "node database.js"
   ]
  },
  {
   "cell_type": "markdown",
   "id": "c0a54fa4-58cc-4a69-9b9f-49e18d33594e",
   "metadata": {
    "editable": true,
    "slideshow": {
     "slide_type": ""
    },
    "tags": []
   },
   "source": [
    "expected output\n",
    "User saved successfully: { name: \"Richard\", age: 42, email: \"richard@example.com\", ... }"
   ]
  },
  {
   "cell_type": "markdown",
   "id": "4b49eeb3-cbb5-47f5-af51-fcf5487a9a6e",
   "metadata": {
    "editable": true,
    "slideshow": {
     "slide_type": ""
    },
    "tags": []
   },
   "source": [
    "### Step 4: Fetch Data from MongoDB"
   ]
  },
  {
   "cell_type": "code",
   "execution_count": null,
   "id": "54e1415d-1684-4afb-a3fc-4e16faff4205",
   "metadata": {
    "editable": true,
    "slideshow": {
     "slide_type": ""
    },
    "tags": []
   },
   "outputs": [],
   "source": [
    "async function getUsers() {\n",
    "  try {\n",
    "    const users = await User.find();\n",
    "    console.log(\"Users in database:\", users);\n",
    "  } catch (err) {\n",
    "    console.error(\"Error fetching users:\", err);\n",
    "  }\n",
    "}\n",
    "\n",
    "getUsers();"
   ]
  },
  {
   "cell_type": "code",
   "execution_count": null,
   "id": "8d1efe53-c796-4904-bd61-d3fc0de3b40b",
   "metadata": {},
   "outputs": [],
   "source": [
    "async function findUserByEmail(email) {\n",
    "  try {\n",
    "    const user = await User.findOne({ email });\n",
    "    console.log(\"User found:\", user);\n",
    "  } catch (err) {\n",
    "    console.error(\"Error finding user:\", err);\n",
    "  }\n",
    "}\n",
    "\n",
    "findUserByEmail(\"richard@example.com\");"
   ]
  },
  {
   "cell_type": "markdown",
   "id": "d7341159-16b5-4e49-bbbc-816d8606dcdb",
   "metadata": {
    "editable": true,
    "slideshow": {
     "slide_type": ""
    },
    "tags": []
   },
   "source": [
    "### Step 5: Update a Record in MongoDB"
   ]
  },
  {
   "cell_type": "code",
   "execution_count": null,
   "id": "fd67c18d-9b28-42a5-9bfc-9cbefc301a28",
   "metadata": {},
   "outputs": [],
   "source": [
    "async function updateUser(email) {\n",
    "  try {\n",
    "    const updatedUser = await User.findOneAndUpdate(\n",
    "      { email },\n",
    "      { age: 45 },\n",
    "      { new: true } // Returns updated document\n",
    "    );\n",
    "    console.log(\"Updated user:\", updatedUser);\n",
    "  } catch (err) {\n",
    "    console.error(\"Error updating user:\", err);\n",
    "  }\n",
    "}\n",
    "\n",
    "updateUser(\"richard@example.com\");"
   ]
  },
  {
   "cell_type": "markdown",
   "id": "046443cf-82cb-4d3c-baae-26c2e549651b",
   "metadata": {},
   "source": [
    "### Step 6: Delete a Record from MongoDB"
   ]
  },
  {
   "cell_type": "code",
   "execution_count": null,
   "id": "736b8a7b-0965-46d9-b031-7b891397b5df",
   "metadata": {},
   "outputs": [],
   "source": [
    "async function deleteUser(email) {\n",
    "  try {\n",
    "    const result = await User.findOneAndDelete({ email });\n",
    "    console.log(\"Deleted user:\", result);\n",
    "  } catch (err) {\n",
    "    console.error(\"Error deleting user:\", err);\n",
    "  }\n",
    "}\n",
    "\n",
    "deleteUser(\"richard@example.com\");"
   ]
  },
  {
   "cell_type": "markdown",
   "id": "d21de8aa-1b18-423f-b4c1-b2ca3b19aba0",
   "metadata": {},
   "source": [
    "### Step 7: Import CSV Data into MongoDB Using Mongoose"
   ]
  },
  {
   "cell_type": "code",
   "execution_count": null,
   "id": "b434706d-d84d-4875-8b8b-4323b4478879",
   "metadata": {},
   "outputs": [],
   "source": [
    "integrate that CSV file you mentioned.\n",
    "\n",
    "Install csv-parser to Read CSV Files"
   ]
  },
  {
   "cell_type": "code",
   "execution_count": null,
   "id": "935f1407-f145-4f38-8be8-b55bf39d15cc",
   "metadata": {},
   "outputs": [],
   "source": [
    "npm install csv-parser fs"
   ]
  },
  {
   "cell_type": "markdown",
   "id": "bf0fbf37-a008-498c-b4b9-34c3153e19e4",
   "metadata": {},
   "source": [
    "csv-parser: Parses CSV files into objects.\n",
    "\n",
    "fs (File System): Reads the file."
   ]
  },
  {
   "cell_type": "markdown",
   "id": "45acbe11-07b6-44fa-a009-63b8084a835b",
   "metadata": {},
   "source": [
    "#### Import CSV into MongoDB"
   ]
  },
  {
   "cell_type": "markdown",
   "id": "caa250b4-755e-42cb-8ab5-8bde98041456",
   "metadata": {},
   "source": [
    "Create a new file importCsv.js:"
   ]
  },
  {
   "cell_type": "code",
   "execution_count": null,
   "id": "89a3d77a-17b5-4684-823f-639cad53d638",
   "metadata": {},
   "outputs": [],
   "source": [
    "const fs = require('fs');\n",
    "const csv = require('csv-parser');\n",
    "const User = require('./models/User');\n",
    "\n",
    "async function importCSV() {\n",
    "  const results = [];\n",
    "  \n",
    "  fs.createReadStream('D:/MongoDB/import_data.csv')\n",
    "    .pipe(csv())\n",
    "    .on('data', (data) => results.push(data))\n",
    "    .on('end', async () => {\n",
    "      try {\n",
    "        await User.insertMany(results);\n",
    "        console.log(\"CSV data imported successfully!\");\n",
    "      } catch (err) {\n",
    "        console.error(\"Error importing CSV:\", err);\n",
    "      }\n",
    "    });\n",
    "}\n",
    "\n",
    "importCSV();"
   ]
  },
  {
   "cell_type": "code",
   "execution_count": null,
   "id": "54854c5a-45de-41d5-aebf-d5d93ea2764d",
   "metadata": {},
   "outputs": [],
   "source": [
    "node importCsv.js"
   ]
  },
  {
   "cell_type": "markdown",
   "id": "6f64e53c-1a53-48ca-aa62-2f8ee117861d",
   "metadata": {},
   "source": [
    "### Step 8: Structure and Optimize the Database"
   ]
  },
  {
   "cell_type": "markdown",
   "id": "9cbd6cf2-2fe4-4349-be0f-a7b5e73090fa",
   "metadata": {},
   "source": [
    "MongoDB allows flexible data modeling. Before migrating fully from Excel, consider: ✅ Normalization vs. Embedded Documents (should related data be stored together?) ✅ Indexes for faster queries (especially if searching by email or username) ✅ Validation rules (ensure data integrity without relying only on application logic) ✅ Aggregation framework (for advanced querying and analytics)\n",
    "\n",
    "Would you like to go deeper into database structuring best practices or focus on integrating this into an app workflow? Your documentation is going to be rock-solid!"
   ]
  },
  {
   "cell_type": "markdown",
   "id": "7d4dfe01-9c17-4f46-90c2-3aa59888e074",
   "metadata": {},
   "source": [
    "## Batch Script for MongoDB & Node.js"
   ]
  },
  {
   "cell_type": "code",
   "execution_count": null,
   "id": "3a649f58-09af-4291-ae5e-b4168804ef74",
   "metadata": {},
   "outputs": [],
   "source": [
    "@echo off\n",
    "REM Start MongoDB in the background\n",
    "start \"\" \"D:\\MongoDB\\bin\\mongod.exe\" --dbpath \"D:\\MongoDB\\data\"\n",
    "\n",
    "REM Change directory to your Node.js project\n",
    "cd /d \"D:\\xampp\\htdocs\\richardfrancis\"\n",
    "\n",
    "REM Run your Node.js app\n",
    "node database.js\n",
    "\n",
    "pause"
   ]
  },
  {
   "cell_type": "markdown",
   "id": "e2c77d38-b5d7-46ef-bbdb-b35e44aa44f0",
   "metadata": {},
   "source": [
    "## Next Level: Automate With Node.js"
   ]
  },
  {
   "cell_type": "code",
   "execution_count": null,
   "id": "6c7d1d46-9144-4c53-a775-21c67490e1d0",
   "metadata": {},
   "outputs": [],
   "source": [
    "const { exec } = require(\"child_process\");\n",
    "\n",
    "console.log(\"Starting MongoDB...\");\n",
    "exec('start \"\" \"D:\\\\MongoDB\\\\bin\\\\mongod.exe\" --dbpath \"D:\\\\MongoDB\\\\data\"', () => {\n",
    "  console.log(\"MongoDB started!\");\n",
    "\n",
    "  console.log(\"Navigating to project...\");\n",
    "  process.chdir(\"D:\\\\xampp\\\\htdocs\\\\richardfrancis\");\n",
    "\n",
    "  console.log(\"Starting Node.js app...\");\n",
    "  exec(\"node database.js\", (err, stdout, stderr) => {\n",
    "    if (err) console.error(\"Error:\", stderr);\n",
    "    else console.log(stdout);\n",
    "  });\n",
    "});\n"
   ]
  }
 ],
 "metadata": {
  "kernelspec": {
   "display_name": "Python 3 (ipykernel)",
   "language": "python",
   "name": "python3"
  },
  "language_info": {
   "codemirror_mode": {
    "name": "ipython",
    "version": 3
   },
   "file_extension": ".py",
   "mimetype": "text/x-python",
   "name": "python",
   "nbconvert_exporter": "python",
   "pygments_lexer": "ipython3",
   "version": "3.10.16"
  }
 },
 "nbformat": 4,
 "nbformat_minor": 5
}
