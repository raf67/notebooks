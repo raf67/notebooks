{
 "cells": [
  {
   "cell_type": "markdown",
   "id": "e824651d-3746-4b9d-a9c0-02d4d95a6b1a",
   "metadata": {},
   "source": [
    "# Bedrock-Powered Lambda Function"
   ]
  },
  {
   "cell_type": "markdown",
   "id": "a1a77b07-76a7-404d-b846-a5348c6d10b5",
   "metadata": {},
   "source": [
    "🚀 **Full Terraform Setup for a Bedrock-Powered Lambda Function**\n",
    "\n",
    "Here's a complete plan to provision a Bedrock-enabled Lambda function using Terraform, including all required AWS resources: IAM role, Lambda code, permissions, optional Function URL, and logging."
   ]
  },
  {
   "cell_type": "markdown",
   "id": "f88c589c-5a48-4734-b002-b707ba98ebe3",
   "metadata": {},
   "source": [
    "## Project Structure"
   ]
  },
  {
   "cell_type": "raw",
   "id": "04908aee-cd04-4e8a-a34d-d989e6e98ea0",
   "metadata": {},
   "source": [
    "rf-bedrock-ai/\n",
    "├── lambda/\n",
    "│   ├── lambda_handler.py\n",
    "│   ├── README.md\n",
    "│   └── test_payload.json\n",
    "├── terraform/\n",
    "│   ├── main.tf\n",
    "│   ├── variables.tf\n",
    "│   ├── outputs.tf\n",
    "│   └── archive.sh\n",
    "├── jupyter/\n",
    "│   ├── rf-bedrock-test.ipynb\n",
    "│   └── rf-bedrock-ingest.ipynb\n",
    "├── configs/\n",
    "│   ├── infrastructure.yaml\n",
    "│   └── routing.yaml\n",
    "├── logs/\n",
    "│   └── (auto-saved responses)\n",
    "├── docs/\n",
    "│   ├── test-plan.md\n",
    "│   └── api-contract.md\n",
    "├── .gitignore\n",
    "└── README.md\n"
   ]
  },
  {
   "cell_type": "markdown",
   "id": "5ecf57ec-ee1a-4284-83dc-fed27f2ca440",
   "metadata": {},
   "source": [
    "🔐 **IAM Role for Lambda + Bedrock**\n",
    "\n",
    "Create the trust and permissions policy in main.tf:"
   ]
  },
  {
   "cell_type": "raw",
   "id": "895b19c9-0904-494a-8d09-e78f6af73dae",
   "metadata": {},
   "source": [
    "resource \"aws_iam_role\" \"lambda_role\" {\n",
    "  name = \"bedrock_lambda_execution\"\n",
    "\n",
    "  assume_role_policy = jsonencode({\n",
    "    Version = \"2012-10-17\",\n",
    "    Statement = [{\n",
    "      Effect = \"Allow\",\n",
    "      Principal = {\n",
    "        Service = \"lambda.amazonaws.com\"\n",
    "      },\n",
    "      Action = \"sts:AssumeRole\"\n",
    "    }]\n",
    "  })\n",
    "}\n",
    "\n",
    "resource \"aws_iam_role_policy_attachment\" \"bedrock_access\" {\n",
    "  role       = aws_iam_role.lambda_role.name\n",
    "  policy_arn = \"arn:aws:iam::aws:policy/AmazonBedrockFullAccess\"\n",
    "}\n",
    "\n",
    "resource \"aws_iam_role_policy_attachment\" \"cw_logs\" {\n",
    "  role       = aws_iam_role.lambda_role.name\n",
    "  policy_arn = \"arn:aws:iam::aws:policy/CloudWatchLogsFullAccess\"\n",
    "}\n"
   ]
  },
  {
   "cell_type": "markdown",
   "id": "e03d7a09-e145-4c25-9f5e-1bc0cd601ce9",
   "metadata": {},
   "source": [
    "🧠 **Lambda Function Code**\n",
    "\n",
    "lambda/lambda_handler.py:"
   ]
  },
  {
   "cell_type": "raw",
   "id": "66017468-1acb-4e9d-beb4-84191252964d",
   "metadata": {},
   "source": [
    "import json\n",
    "import boto3\n",
    "\n",
    "bedrock = boto3.client(\"bedrock-runtime\", region_name=\"us-east-1\")\n",
    "\n",
    "def lambda_handler(event, context):\n",
    "    prompt = event.get(\"prompt\", \"Hello Richard!\")\n",
    "    body = {\n",
    "        \"prompt\": f\"Human: {prompt}\\n\\nAssistant:\",\n",
    "        \"max_tokens_to_sample\": 300\n",
    "    }\n",
    "    response = bedrock.invoke_model(\n",
    "        modelId=\"anthropic.claude-v2\",\n",
    "        body=json.dumps(body),\n",
    "        contentType=\"application/json\",\n",
    "        accept=\"application/json\"\n",
    "    )\n",
    "    result = json.loads(response[\"body\"].read())\n",
    "    return {\n",
    "        \"statusCode\": 200,\n",
    "        \"body\": json.dumps(result)\n",
    "    }\n"
   ]
  },
  {
   "cell_type": "markdown",
   "id": "609417d1-59b0-47e5-9884-7b992b6da36d",
   "metadata": {},
   "source": [
    "📦 **Package Lambda ZIP (Optional Script)**\n",
    "\n",
    "Create archive.sh to zip your Python file:"
   ]
  },
  {
   "cell_type": "raw",
   "id": "f6fd7da6-df23-4271-815e-b67c725068bc",
   "metadata": {},
   "source": [
    "cd lambda\n",
    "zip -r ../lambda.zip lambda_handler.py\n"
   ]
  },
  {
   "cell_type": "raw",
   "id": "079681f7-e993-487d-889b-ccd8b4544ead",
   "metadata": {},
   "source": [
    "bash archive.sh\n"
   ]
  },
  {
   "cell_type": "raw",
   "id": "14ce1ae8-c3ce-45d2-8fec-cfa5ff48204d",
   "metadata": {},
   "source": [
    "resource \"aws_lambda_function\" \"bedrock_ai\" {\n",
    "  function_name = \"richard-bedrock-ai\"\n",
    "  role          = aws_iam_role.lambda_role.arn\n",
    "  runtime       = \"python3.10\"\n",
    "  handler       = \"lambda_handler.lambda_handler\"\n",
    "\n",
    "  filename         = \"lambda.zip\"\n",
    "  source_code_hash = filebase64sha256(\"lambda.zip\")\n",
    "\n",
    "  timeout = 15\n",
    "  memory_size = 256\n",
    "}\n"
   ]
  },
  {
   "cell_type": "markdown",
   "id": "5fcd41e0-9ea4-4eec-8e0f-c1e2e7689ee0",
   "metadata": {},
   "source": [
    "🌐 **Function URL (Optional Public HTTPS Endpoint)**"
   ]
  },
  {
   "cell_type": "code",
   "execution_count": 1,
   "id": "5dbbc937-de35-40ae-9334-6e6d7321d2ed",
   "metadata": {},
   "outputs": [
    {
     "ename": "SyntaxError",
     "evalue": "invalid syntax. Maybe you meant '==' or ':=' instead of '='? (617736621.py, line 2)",
     "output_type": "error",
     "traceback": [
      "\u001b[1;36m  Cell \u001b[1;32mIn[1], line 2\u001b[1;36m\u001b[0m\n\u001b[1;33m    function_name      = aws_lambda_function.bedrock_ai.function_name\u001b[0m\n\u001b[1;37m    ^\u001b[0m\n\u001b[1;31mSyntaxError\u001b[0m\u001b[1;31m:\u001b[0m invalid syntax. Maybe you meant '==' or ':=' instead of '='?\n"
     ]
    }
   ],
   "source": [
    "resource \"aws_lambda_function_url\" \"bedrock_url\" {\n",
    "  function_name      = aws_lambda_function.bedrock_ai.function_name\n",
    "  authorization_type = \"NONE\"\n",
    "}\n"
   ]
  },
  {
   "cell_type": "markdown",
   "id": "6ac42512-3c2c-4d51-b0c7-8c2340514f33",
   "metadata": {},
   "source": [
    "📤 **Outputs**\n",
    "\n",
    "outputs.tf:"
   ]
  },
  {
   "cell_type": "raw",
   "id": "94009c5d-6964-4844-ae81-b8e6928c740d",
   "metadata": {},
   "source": [
    "output \"function_url\" {\n",
    "  value = aws_lambda_function_url.bedrock_url.function_url\n",
    "}\n"
   ]
  },
  {
   "cell_type": "markdown",
   "id": "818c50c6-31b9-4a22-8516-c9281ee37370",
   "metadata": {},
   "source": [
    "🛠 **Deployment Commands**"
   ]
  },
  {
   "cell_type": "raw",
   "id": "ad586475-758d-422b-a3b4-8e4e9cded61f",
   "metadata": {},
   "source": [
    "terraform init\n",
    "terraform plan\n",
    "terraform apply\n"
   ]
  },
  {
   "cell_type": "markdown",
   "id": "79cd3bf7-6aa0-4a8b-a85b-2da7ad26d046",
   "metadata": {},
   "source": [
    "after deployment"
   ]
  },
  {
   "cell_type": "raw",
   "id": "b03c092a-4c33-48e3-93fc-10f5c0779679",
   "metadata": {},
   "source": [
    "curl -X POST \\\n",
    "  -H \"Content-Type: application/json\" \\\n",
    "  -d '{\"prompt\":\"What is responsible AI?\"}' \\\n",
    "  <function_url_output>\n"
   ]
  },
  {
   "cell_type": "markdown",
   "id": "bb1a5c71-8da8-4410-8afe-f94f4b91c5b7",
   "metadata": {},
   "source": [
    "🧪 Step 1: Verify Bedrock Access"
   ]
  },
  {
   "cell_type": "code",
   "execution_count": null,
   "id": "3eb72c15-4ac8-40f7-8ce3-2cff7aae5e50",
   "metadata": {},
   "outputs": [],
   "source": [
    "!pip install boto3"
   ]
  },
  {
   "cell_type": "code",
   "execution_count": null,
   "id": "3a0cb2e6-8718-4af5-82b2-8c745e33d9aa",
   "metadata": {},
   "outputs": [],
   "source": [
    "import boto3\n",
    "\n",
    "bedrock = boto3.client(\"bedrock\", region_name=\"us-east-1\")\n",
    "models = bedrock.list_foundation_models()\n",
    "for m in models['modelSummaries']:\n",
    "    print(m['modelId'], '-', m['providerName'])"
   ]
  },
  {
   "cell_type": "code",
   "execution_count": null,
   "id": "04ad9c89-f3ac-4891-befc-323becbc1616",
   "metadata": {},
   "outputs": [],
   "source": [
    "import boto3\n",
    "import json\n",
    "from datetime import datetime\n",
    "\n",
    "def bedrock_chat_assistant(event, context):\n",
    "    bedrock = boto3.client('bedrock-runtime', region_name='us-east-1')\n",
    "    \n",
    "    user_message = json.loads(event.get('body', '{}')).get('message', '')\n",
    "    \n",
    "    body = {\n",
    "        \"anthropic_version\": \"bedrock-2023-05-31\",\n",
    "        \"max_tokens\": 300,\n",
    "        \"messages\": [{\"role\": \"user\", \"content\": user_message}]\n",
    "    }\n",
    "    \n",
    "    response = bedrock.invoke_model(\n",
    "        modelId=\"anthropic.claude-3-sonnet-20240229-v1:0\",\n",
    "        body=json.dumps(body)\n",
    "    )\n",
    "    \n",
    "    result = json.loads(response['body'].read())\n",
    "    \n",
    "    return {\n",
    "        'statusCode': 200,\n",
    "        'headers': {'Content-Type': 'application/json'},\n",
    "        'body': json.dumps({\n",
    "            'user_message': user_message,\n",
    "            'ai_response': result['content'][0]['text'],\n",
    "            'model': 'Claude 3 Sonnet',\n",
    "            'timestamp': datetime.now().isoformat()\n",
    "        })\n",
    "    }\n"
   ]
  },
  {
   "cell_type": "markdown",
   "id": "40f637d7-c798-4da9-a112-0f06f67c8e28",
   "metadata": {},
   "source": []
  }
 ],
 "metadata": {
  "kernelspec": {
   "display_name": "Python 3 (ipykernel)",
   "language": "python",
   "name": "python3"
  },
  "language_info": {
   "codemirror_mode": {
    "name": "ipython",
    "version": 3
   },
   "file_extension": ".py",
   "mimetype": "text/x-python",
   "name": "python",
   "nbconvert_exporter": "python",
   "pygments_lexer": "ipython3",
   "version": "3.10.16"
  }
 },
 "nbformat": 4,
 "nbformat_minor": 5
}
