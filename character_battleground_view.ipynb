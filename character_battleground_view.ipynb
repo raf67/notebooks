{
 "cells": [
  {
   "cell_type": "markdown",
   "id": "cbc6ea0f-62e6-458c-911c-ca9e45695635",
   "metadata": {},
   "source": [
    "# CREATE VIEW character_battleground_view"
   ]
  },
  {
   "cell_type": "code",
   "execution_count": null,
   "id": "632cd52a-4f96-4e93-9e7f-2446b5d9c29f",
   "metadata": {},
   "outputs": [],
   "source": [
    "CREATE VIEW character_battleground_view AS\n",
    "SELECT \n",
    "    c.id AS character_id,\n",
    "    c.name AS character_name,\n",
    "    b.id AS battleground_id,\n",
    "    b.name AS battleground_name,\n",
    "    s.Played,\n",
    "    s.Won,\n",
    "    s.Lost\n",
    "FROM character_battleground_stats s\n",
    "JOIN characters c ON s.Character = c.name\n",
    "JOIN battlegrounds b ON s.Battleground = b.name;\n"
   ]
  },
  {
   "cell_type": "code",
   "execution_count": null,
   "id": "1af69654-5a79-40af-971b-ac63fb44c06a",
   "metadata": {},
   "outputs": [],
   "source": [
    "SELECT * FROM character_battleground_view WHERE character_name = 'drdredd';"
   ]
  },
  {
   "cell_type": "code",
   "execution_count": null,
   "id": "f7b56bbb-4c6e-47c5-ad3e-daf4908cbe02",
   "metadata": {},
   "outputs": [],
   "source": [
    "MariaDB [wow]> SELECT * FROM character_battleground_view WHERE character_name = 'drdredd';\n",
    "+--------------+----------------+-----------------+----------------------------+--------+------+------+\n",
    "| character_id | character_name | battleground_id | battleground_name          | Played | Won  | Lost |\n",
    "+--------------+----------------+-----------------+----------------------------+--------+------+------+\n",
    "|            1 | drdredd        |              15 | Alterac Valley             |    834 |  373 |  461 |\n",
    "|            1 | drdredd        |               1 | Classic Warsong Gulch      |   2017 | 1154 |  863 |\n",
    "|            1 | drdredd        |               9 | Classic Arathi Basin       |   1474 |  889 |  585 |\n",
    "|            1 | drdredd        |              18 | Eye of the Storm           |   1162 |  684 |  478 |\n",
    "|            1 | drdredd        |               4 | Strand of the Ancients     |   1189 |  653 |  536 |\n",
    "|            1 | drdredd        |              12 | Isle of Conquest           |    500 |  270 |  230 |\n",
    "|            1 | drdredd        |              21 | Twin Peaks                 |   1092 |  619 |  473 |\n",
    "|            1 | drdredd        |               7 | Silvershard Mines          |    718 |  429 |  289 |\n",
    "|            1 | drdredd        |              16 | The Battle for Gilneas     |   1125 |  653 |  472 |\n",
    "|            1 | drdredd        |               2 | Rated Eye of the Storm     |    221 |  387 |    0 |\n",
    "|            1 | drdredd        |              10 | Temple of Kotmogu          |    809 |  461 |  348 |\n",
    "|            1 | drdredd        |              19 | Deepwind Gorge (Legacy)    |    476 |  283 |  193 |\n",
    "|            1 | drdredd        |               5 | Ashran                     |    223 |  127 |   96 |\n",
    "|            1 | drdredd        |              13 | Southshore vs. Tarren Mill |     21 |   15 |    6 |\n",
    "|            1 | drdredd        |              22 | Arathi Basin Winter        |     43 |   24 |   19 |\n",
    "|            1 | drdredd        |               8 | Cooking: Impossible        |     30 |   17 |   13 |\n",
    "|            1 | drdredd        |              17 | Seething Shore             |    237 |  133 |  104 |\n",
    "|            1 | drdredd        |               3 | Warsong Gulch              |    318 |  148 |  170 |\n",
    "|            1 | drdredd        |              11 | Arathi Basin               |    282 |  144 |  138 |\n",
    "|            1 | drdredd        |              20 | Battle for Wintergrasp     |    242 |  162 |   80 |\n",
    "|            1 | drdredd        |               6 | Arathi Basin Comp Stomp    |    128 |  128 |    0 |\n",
    "|            1 | drdredd        |              14 | Deepwind Gorge             |    268 |  133 |  135 |\n",
    "|            1 | drdredd        |              23 | Deephaul Ravine            |     29 |    9 |   20 |\n",
    "+--------------+----------------+-----------------+----------------------------+--------+------+------+"
   ]
  },
  {
   "cell_type": "markdown",
   "id": "34da29c4-1eea-44d0-9040-882f44704464",
   "metadata": {},
   "source": [
    "- How This Works:"
   ]
  },
  {
   "cell_type": "markdown",
   "id": "9f07fdca-c31d-48f9-af53-b8866fcd56f9",
   "metadata": {},
   "source": [
    "character_battleground_stats (s) is used as the feeder table.\n",
    "\n",
    "Joins characters (c) on s.Character = c.name to link stats to characters.\n",
    "\n",
    "Joins battlegrounds (b) on s.Battleground = b.name to match stats to battlegrounds.\n",
    "\n",
    "Selects relevant fields including Played, Won, and Lost"
   ]
  }
 ],
 "metadata": {
  "kernelspec": {
   "display_name": "Python 3 (ipykernel)",
   "language": "python",
   "name": "python3"
  },
  "language_info": {
   "codemirror_mode": {
    "name": "ipython",
    "version": 3
   },
   "file_extension": ".py",
   "mimetype": "text/x-python",
   "name": "python",
   "nbconvert_exporter": "python",
   "pygments_lexer": "ipython3",
   "version": "3.10.16"
  }
 },
 "nbformat": 4,
 "nbformat_minor": 5
}
