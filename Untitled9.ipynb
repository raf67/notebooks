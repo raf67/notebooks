{
 "cells": [
  {
   "cell_type": "code",
   "execution_count": null,
   "id": "a2025b08-1661-4769-8687-cb6fc52991ff",
   "metadata": {},
   "outputs": [],
   "source": [
    "import boto3\n",
    "import os\n",
    "\n",
    "# AWS S3 configuration\n",
    "bucket_name = 'richardfrancis.info'\n",
    "s3_prefix = 'MyPython/'  # S3 folder path\n",
    "local_folder = r'D:\\Richard\\Notebook'\n",
    "\n",
    "# Initialize S3 client\n",
    "s3 = boto3.client('s3')\n",
    "\n",
    "# Walk through local folder and upload files\n",
    "for root, dirs, files in os.walk(local_folder):\n",
    "    for file in files:\n",
    "        local_path = os.path.join(root, file)\n",
    "        relative_path = os.path.relpath(local_path, local_folder)\n",
    "        s3_key = os.path.join(s3_prefix, relative_path).replace(\"\\\\\", \"/\")\n",
    "\n",
    "        print(f'Uploading {local_path} to s3://{bucket_name}/{s3_key}')\n",
    "        s3.upload_file(local_path, bucket_name, s3_key)\n",
    "\n",
    "print(\"✅ Upload complete.\")\n"
   ]
  }
 ],
 "metadata": {
  "kernelspec": {
   "display_name": "Python 3 (ipykernel)",
   "language": "python",
   "name": "python3"
  },
  "language_info": {
   "codemirror_mode": {
    "name": "ipython",
    "version": 3
   },
   "file_extension": ".py",
   "mimetype": "text/x-python",
   "name": "python",
   "nbconvert_exporter": "python",
   "pygments_lexer": "ipython3",
   "version": "3.10.16"
  }
 },
 "nbformat": 4,
 "nbformat_minor": 5
}
