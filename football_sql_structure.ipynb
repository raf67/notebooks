{
 "cells": [
  {
   "cell_type": "code",
   "execution_count": null,
   "id": "81b715a7-acc1-48ab-986a-215ddfe263b5",
   "metadata": {},
   "outputs": [],
   "source": [
    "-- Home Results Table\n",
    "CREATE TABLE home_results AS\n",
    "SELECT \n",
    "    home_team AS team,\n",
    "    COUNT(*) AS pld,\n",
    "    SUM(CASE WHEN home_score > away_score THEN 1 ELSE 0 END) AS won,\n",
    "    SUM(CASE WHEN home_score = away_score THEN 1 ELSE 0 END) AS drawn,\n",
    "    SUM(CASE WHEN home_score < away_score THEN 1 ELSE 0 END) AS lost,\n",
    "    SUM(home_score) AS GF,\n",
    "    SUM(away_score) AS GA,\n",
    "    SUM(home_score) - SUM(away_score) AS GD,\n",
    "    SUM(\n",
    "        CASE \n",
    "            WHEN home_score > away_score THEN 3\n",
    "            WHEN home_score = away_score THEN 1\n",
    "            ELSE 0\n",
    "        END\n",
    "    ) AS points\n",
    "FROM match_results\n",
    "GROUP BY home_team;"
   ]
  },
  {
   "cell_type": "code",
   "execution_count": null,
   "id": "dbe1274b-8776-4d46-8e2f-16c783def9da",
   "metadata": {},
   "outputs": [],
   "source": []
  },
  {
   "cell_type": "code",
   "execution_count": null,
   "id": "3bba57b5-72b3-4f8e-b9e8-e347ecb181f0",
   "metadata": {},
   "outputs": [],
   "source": [
    "CREATE VIEW away_results_view AS\n",
    "SELECT \n",
    "    away_team AS team,\n",
    "    COUNT(*) AS pld,\n",
    "    SUM(CASE WHEN away_score > home_score THEN 1 ELSE 0 END) AS won,\n",
    "    SUM(CASE WHEN away_score = home_score THEN 1 ELSE 0 END) AS drawn,\n",
    "    SUM(CASE WHEN away_score < home_score THEN 1 ELSE 0 END) AS lost,\n",
    "    SUM(away_score) AS GF,\n",
    "    SUM(home_score) AS GA,\n",
    "    SUM(away_score) - SUM(home_score) AS GD,\n",
    "    SUM(\n",
    "        CASE \n",
    "            WHEN away_score > home_score THEN 3\n",
    "            WHEN away_score = home_score THEN 1\n",
    "            ELSE 0\n",
    "        END\n",
    "    ) AS points\n",
    "FROM match_results\n",
    "GROUP BY away_team;\n"
   ]
  },
  {
   "cell_type": "code",
   "execution_count": null,
   "id": "de697bed-c961-4fd7-aa42-958ece8fa328",
   "metadata": {},
   "outputs": [],
   "source": []
  },
  {
   "cell_type": "code",
   "execution_count": null,
   "id": "ec146ded-1847-4dda-9327-b43bca8ab855",
   "metadata": {},
   "outputs": [],
   "source": [
    "CREATE VIEW league_table AS\n",
    "SELECT \n",
    "    team,\n",
    "    SUM(pld) AS pld,\n",
    "    SUM(won) AS won,\n",
    "    SUM(drawn) AS drawn,\n",
    "    SUM(lost) AS lost,\n",
    "    SUM(GF) AS GF,\n",
    "    SUM(GA) AS GA,\n",
    "    SUM(GF) - SUM(GA) AS GD,\n",
    "    SUM(points) AS points\n",
    "FROM (\n",
    "    -- Select home results for each team from the home view\n",
    "    SELECT \n",
    "        home.team AS team,\n",
    "        home.pld,\n",
    "        home.won,\n",
    "        home.drawn,\n",
    "        home.lost,\n",
    "        home.GF,\n",
    "        home.GA,\n",
    "        home.points\n",
    "    FROM home_results_view home\n",
    "    UNION ALL\n",
    "    -- Select away results for each team from the away view\n",
    "    SELECT \n",
    "        away.team AS team,\n",
    "        away.pld,\n",
    "        away.won,\n",
    "        away.drawn,\n",
    "        away.lost,\n",
    "        away.GF,\n",
    "        away.GA,\n",
    "        away.points\n",
    "    FROM away_results_view away\n",
    ") AS combined\n",
    "GROUP BY team;\n",
    "\n"
   ]
  }
 ],
 "metadata": {
  "kernelspec": {
   "display_name": "Python 3 (ipykernel)",
   "language": "python",
   "name": "python3"
  },
  "language_info": {
   "codemirror_mode": {
    "name": "ipython",
    "version": 3
   },
   "file_extension": ".py",
   "mimetype": "text/x-python",
   "name": "python",
   "nbconvert_exporter": "python",
   "pygments_lexer": "ipython3",
   "version": "3.10.16"
  }
 },
 "nbformat": 4,
 "nbformat_minor": 5
}
