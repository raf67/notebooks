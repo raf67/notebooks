{
 "cells": [
  {
   "cell_type": "markdown",
   "id": "5656657e-d11c-4e1d-b971-0c58aaa20898",
   "metadata": {},
   "source": []
  },
  {
   "cell_type": "markdown",
   "id": "67397dce-2981-4d64-b74e-1f683e2dd176",
   "metadata": {},
   "source": [
    "# Overview"
   ]
  },
  {
   "cell_type": "markdown",
   "id": "5bd31e59-bec9-4927-819c-b22a17c2be31",
   "metadata": {},
   "source": [
    "This README.md serves as the central documentation for the D:\\AWS directory. The purpose of this directory is to provide a comprehensive and organized foundation for managing, deploying, and documenting Amazon CloudFront distributions, along with their associated DNS resolution (Route 53), Lambda@Edge routing features, deployment procedures, essential operational tools and binaries, log tracking, and behavioral documentation. Additionally, the directory includes resources and configurations needed for implementing secure content delivery over HTTPS and for mapping nuanced infrastructure behaviors—including aspects of \"emotional infrastructure\" in modern distributed deployments.\n",
    "\n",
    "The information herein has been carefully organized to facilitate a clear understanding of each component’s role, best practices for operation, and the integration required for a robust, secure, and observable CDN (Content Delivery Network) deployment with CloudFront."
   ]
  },
  {
   "cell_type": "markdown",
   "id": "4d4d5809-d0da-4e70-b411-138bb72c8019",
   "metadata": {},
   "source": []
  },
  {
   "cell_type": "markdown",
   "id": "5bcc2fbd-78c7-4884-b32b-03f9b43c9e79",
   "metadata": {},
   "source": [
    "# Purpose"
   ]
  },
  {
   "cell_type": "markdown",
   "id": "35ec7ebf-a337-4527-a373-5451a19593b1",
   "metadata": {},
   "source": [
    "The D:\\AWS directory is designed as a consolidated resource center for all configuration files, operational tools, binaries, deployment records, and documentation related to deploying and managing Amazon CloudFront distributions. This directory enables:\n",
    "\n",
    "- **Deployment and configuration of CloudFront distributions** for both static and dynamic website hosting, ensuring scalable content delivery with low latency.\n",
    "\n",
    "- **Streamlined DNS resolution** with Amazon Route 53 alias records, facilitating the use of custom domain names with CloudFront for seamless, secure public access.\n",
    "\n",
    "- **Edge routing logic** via Lambda@Edge, including path rewriting, protocol enforcement, header manipulation, and advanced content handling at global edge locations.\n",
    "\n",
    "- **Comprehensive documentation** of routing, behavior mapping, and system architecture—essential for reproducibility, knowledge transfer, and advanced analytics.\n",
    "\n",
    "- **Facilitation of HTTPS deployment**, including certificate management, viewer protocol policies, and end-to-end encrypted content delivery.\n",
    "\n",
    "- **Support for infrastructure observability**, deployment tracking, and emotive or behavioral infrastructure mapping—a forward-thinking approach to high-availability, resilient, and adaptable distributed system architectures24.\n",
    "\n",
    "This directory underpins modern DevOps practices by providing everything needed for the lifecycle of CDN-enabled cloud architectures, from initial configuration to runtime observability."
   ]
  },
  {
   "cell_type": "markdown",
   "id": "083e0069-e7a2-4d01-8027-d9d91487265d",
   "metadata": {},
   "source": []
  },
  {
   "cell_type": "markdown",
   "id": "eca297c1-b157-4e47-a03d-89f107b2cd97",
   "metadata": {},
   "source": [
    "# Configurations"
   ]
  },
  {
   "cell_type": "markdown",
   "id": "07ad17b0-7fbc-4b6e-ba26-6b67baf2b4f9",
   "metadata": {},
   "source": [
    "**Configuration Files: Purpose and Structure**\n",
    "The directory includes three principal configuration files that define the essential components of CloudFront-based infrastructure. Their contents are typically in JSON format, structured as per AWS standards, and are referenced during deployment and adjustment operations."
   ]
  },
  {
   "cell_type": "markdown",
   "id": "4ac4c17f-8180-4a76-be09-a478a01e9ef0",
   "metadata": {},
   "source": [
    "1. distribution-config.json"
   ]
  },
  {
   "cell_type": "markdown",
   "id": "6d1c9000-7742-44df-b5b5-0a60d18cfa2d",
   "metadata": {},
   "source": [
    "**Purpose:** Defines all settings for an individual CloudFront distribution. The file specifies origins (such as S3 buckets or custom HTTP servers), cache behaviors, default root objects, protocol enforcement, SSL certificate associations, alias domain names, logging settings, and integration points for Lambda@Edge functions.\n",
    "\n",
    "**Key Structure Elements:**\n",
    "\n",
    "- **CallerReference:** Uniquely identifies the configuration change.\n",
    "- **Aliases:** Custom domain names (CNAMEs) linked to the distribution.\n",
    "- **Origins:** List of content sources (S3, custom servers, etc.) with associated settings.\n",
    "- **DefaultRootObject:** Default object returned at root (e.g., index.html).\n",
    "- **DefaultCacheBehavior, CacheBehaviors:** Dictate request handling, caching, allowed protocols (e.g., HTTP, HTTPS), forwarding rules for headers, cookies, and query strings.\n",
    "- **ViewerCertificate:** SSL/TLS certificate details, specifying whether HTTPS is enabled, protocol version enforced, and the Source (CloudFront default or AWS Certificate Manager).\n",
    "- **Logging, WebACLId, PriceClass, HttpVersion, IsIPv6Enabled:** Additional options for request logging, web application firewall integration, pricing class, protocol versions, and IPv6 support168.\n",
    "\n",
    "Typical Use: Referenced during creation or updates to a CloudFront distribution using AWS CLI or SDKs. Modifications require providing the full config file with new values and correct ETag for atomic updates."
   ]
  },
  {
   "cell_type": "markdown",
   "id": "e3ac8b7c-1300-405e-a88c-2fe429f6c884",
   "metadata": {},
   "source": [
    "## Sample Minimum Configuration:"
   ]
  },
  {
   "cell_type": "raw",
   "id": "86b798e3-f35e-4fab-88dd-8c58c1422c3e",
   "metadata": {},
   "source": [
    "{\n",
    "  \"CallerReference\": \"rf-api-setup-2025\",\n",
    "  \"Comment\": \"API distribution for richardfrancis.info\",\n",
    "  \"Aliases\": {\n",
    "    \"Quantity\": 1,\n",
    "    \"Items\": [\"api.richardfrancis.info\"]\n",
    "  },\n",
    "  \"Origins\": {\n",
    "    \"Quantity\": 1,\n",
    "    \"Items\": [\n",
    "      {\n",
    "        \"Id\": \"api-origin\",\n",
    "        \"DomainName\": \"api.richardfrancis.info\",\n",
    "        \"CustomOriginConfig\": {\n",
    "          \"HTTPPort\": 80,\n",
    "          \"HTTPSPort\": 443,\n",
    "          \"OriginProtocolPolicy\": \"https-only\",\n",
    "          \"OriginSslProtocols\": {\n",
    "            \"Quantity\": 1,\n",
    "            \"Items\": [\"TLSv1.2\"]\n",
    "          }\n",
    "        }\n",
    "      }\n",
    "    ]\n",
    "  },\n",
    "  \"DefaultCacheBehavior\": {\n",
    "    \"TargetOriginId\": \"api-origin\",\n",
    "    \"ViewerProtocolPolicy\": \"redirect-to-https\",\n",
    "    \"MinTTL\": 0,\n",
    "    \"AllowedMethods\": {\n",
    "      \"Quantity\": 2,\n",
    "      \"Items\": [\"GET\", \"HEAD\"]\n",
    "    },\n",
    "    \"ForwardedValues\": {\n",
    "      \"QueryString\": true,\n",
    "      \"Cookies\": {\n",
    "        \"Forward\": \"none\"\n",
    "      }\n",
    "    },\n",
    "    \"TrustedSigners\": {\n",
    "      \"Enabled\": false,\n",
    "      \"Quantity\": 0\n",
    "    }\n",
    "  },\n",
    "  \"ViewerCertificate\": {\n",
    "    \"ACMCertificateArn\": \"arn:aws:acm:us-east-1:280762879731:certificate/6eda9f46-7b2f-4e63-8437-3a2c44d220ac\",\n",
    "    \"SSLSupportMethod\": \"sni-only\",\n",
    "    \"MinimumProtocolVersion\": \"TLSv1.2_2021\"\n",
    "  },\n",
    "  \"Enabled\": true\n",
    "}"
   ]
  },
  {
   "cell_type": "raw",
   "id": "3c25a313-f73d-418b-a159-d761c40406c7",
   "metadata": {},
   "source": [
    "This example may be extended with logging destinations, additional cache behaviors, error response settings, and more depending on deployment requirements."
   ]
  },
  {
   "cell_type": "markdown",
   "id": "5a5e6786-6950-44e2-b74c-308713c8d38b",
   "metadata": {},
   "source": []
  },
  {
   "cell_type": "markdown",
   "id": "9b7fc5f5-d1d3-43c7-83a8-1bcfbb3a68c2",
   "metadata": {},
   "source": [
    "2. route53-alias.json"
   ]
  },
  {
   "cell_type": "markdown",
   "id": "66d66c96-d787-4461-8cf1-0b89cb96f81f",
   "metadata": {},
   "source": [
    "**Purpose:** Defines DNS alias (A/AAAA) records in Amazon Route 53 to map custom domain names directly to CloudFront distributions, thus enabling the use of branded URLs.\n",
    "\n",
    "**Contents and Usage:**\n",
    "\n",
    "- Specifies the custom domain (Name) and the CloudFront distribution’s domain (DNSName).\n",
    "- Contains keys for HostedZoneId (CloudFront’s special zone ID), EvaluateTargetHealth (usually false), and record Type (A/AAAA for IPv4/v6).\n",
    "- Used with the aws route53 change-resource-record-sets command or in deployment scripts.\n",
    "\n",
    "**Example:**"
   ]
  },
  {
   "cell_type": "raw",
   "id": "bd4b6ea9-4039-49f7-862d-1a34fe627e95",
   "metadata": {},
   "source": [
    "{\n",
    "  \"Comment\": \"Create alias for CloudFront distribution\",\n",
    "  \"Changes\": [\n",
    "    {\n",
    "      \"Action\": \"CREATE\",\n",
    "      \"ResourceRecordSet\": {\n",
    "        \"Name\": \"www.example.com\",\n",
    "        \"Type\": \"A\",\n",
    "        \"AliasTarget\": {\n",
    "          \"HostedZoneId\": \"Z2FDTNDATAQYW2\",\n",
    "          \"DNSName\": \"d123456abcdef8.cloudfront.net\",\n",
    "          \"EvaluateTargetHealth\": false\n",
    "        }\n",
    "      }\n",
    "    }\n",
    "  ]\n",
    "}"
   ]
  },
  {
   "cell_type": "markdown",
   "id": "ee65b423-964e-4aa2-bf7f-ce6cb4d566c5",
   "metadata": {},
   "source": [
    "This method ensures both root and subdomain traffic can be seamlessly routed to CloudFront, and supports both IPv4 and IPv6 via appropriate record types."
   ]
  },
  {
   "cell_type": "markdown",
   "id": "75dc798f-27e5-4c79-9390-28cc88fa6a9a",
   "metadata": {},
   "source": []
  },
  {
   "cell_type": "markdown",
   "id": "1a702cc2-72f4-44ec-94f3-ecfb86a7d5f3",
   "metadata": {},
   "source": [
    "3. lambda-config.json"
   ]
  },
  {
   "cell_type": "markdown",
   "id": "9e4a6395-6c87-4171-abea-e88f710904bf",
   "metadata": {},
   "source": [
    "**Purpose:** Holds configuration for AWS Lambda@Edge functions associated with CloudFront distributions. Used to enable advanced content handling directly at AWS edge locations (e.g., header manipulation, path rewriting, access control).\n",
    "\n",
    "**Structure:**\n",
    "\n",
    "- Includes function ARNs, event trigger definitions (e.g., viewer request, origin request), versioning, and optional parameters (such as environment variables or references to config files when permitted).\n",
    "- Lambda functions themselves may need local configuration or packed files to be uploaded, and restrictions may apply (no environment variables for Lambda@Edge, etc.).\n",
    "\n",
    "**Typical Usage:**"
   ]
  },
  {
   "cell_type": "raw",
   "id": "fc54afa5-b9a9-4af3-9a5f-ae1190bf0933",
   "metadata": {},
   "source": [
    "{\n",
    "  \"FunctionName\": \"myLambdaEdgeFunction\",\n",
    "  \"Runtime\": \"python3.13\",\n",
    "  \"Handler\": \"lambda_function.lambda_handler\",\n",
    "  \"Role\": \"arn:aws:iam::ACCOUNT_ID:role/lambda-edge-execution\",\n",
    "  \"Description\": \"Modify request URI for /download/* prefix\",\n",
    "  \"EventSourceMappings\": [\n",
    "    {\n",
    "      \"EventType\": \"origin-request\",\n",
    "      \"DistributionId\": \"E123ABC456XYZ\"\n",
    "    }\n",
    "  ]\n",
    "}"
   ]
  },
  {
   "cell_type": "markdown",
   "id": "3b52b94a-aeba-4450-81c2-9e35e9a00053",
   "metadata": {},
   "source": [
    "Associations must be carefully managed, as the logic here can modify requests in ways critical to security, compliance, and routing."
   ]
  },
  {
   "cell_type": "markdown",
   "id": "3e25d7dd-3a87-4b5f-a08e-eed447736528",
   "metadata": {},
   "source": []
  },
  {
   "cell_type": "markdown",
   "id": "190de18f-3dc2-432a-889d-2eaca3928a58",
   "metadata": {},
   "source": [
    "# Deployment Logs"
   ]
  },
  {
   "cell_type": "markdown",
   "id": "f2160fe0-7cca-4129-bebe-35f828108ebc",
   "metadata": {},
   "source": [
    "Robust deployment processes generate logs for auditing, troubleshooting, and post-mortem analysis. The deploy-log.txt file is reserved for chronologically recording CloudFront and Route 53 configuration changes, Lambda function deployments, and any issues encountered.\n",
    "\n",
    "**Key Features:**\n",
    "\n",
    "- **Timestamped Entries:** Each log entry is time-stamped (e.g., 2025-07-26 20:03:17 UTC) for traceability.\n",
    "- **Deployment Steps:** Logs information such as distribution creation/modification, status, ETags for each configuration version, and any API command executed.\n",
    "- **DNS and Certificate Updates:** Documents the state of alias records and ACM certificate validations for HTTPS deployment.\n",
    "- **Lambda Attachments:** Lists associations, handler updates, and traffic weight changes when deploying or promoting continuous deployment policies.\n",
    "- **Error Reporting:** Captures failures or warnings for immediate triage.\n",
    "\n",
    "**Sample Excerpt:**"
   ]
  },
  {
   "cell_type": "raw",
   "id": "01e3060d-3ef5-4a88-92af-74f4a6658874",
   "metadata": {},
   "source": [
    "2025-07-26 20:01:00 UTC | Created CloudFront distribution: d123456abcdef8 | Status: Deployed\n",
    "2025-07-26 20:02:12 UTC | Updated Route 53 alias | www.example.com -> d123456abcdef8.cloudfront.net\n",
    "2025-07-26 20:03:17 UTC | Attached Lambda@Edge (viewer-request) | Function: myHeaderModifier | Version: 3\n",
    "2025-07-26 20:04:40 UTC | ACM certificate issued | www.example.com | ARN: arn:aws:acm:...\n",
    "2025-07-26 20:07:21 UTC | Error: Lambda deployment exceeded execution timeout.\n",
    "2025-07-26 20:08:10 UTC | Rollback initiated for failed Lambda deployment."
   ]
  },
  {
   "cell_type": "markdown",
   "id": "dcdb1d05-c9b7-4e11-8940-a009e9707387",
   "metadata": {},
   "source": [
    "Such logs serve as the definitive record of infrastructure changes and must be maintained and archived according to compliance requirements."
   ]
  },
  {
   "cell_type": "markdown",
   "id": "b778dd21-477e-4a6e-85c9-8b593da0431e",
   "metadata": {},
   "source": []
  },
  {
   "cell_type": "markdown",
   "id": "d4e81823-3c11-458d-a9fe-d4c1b58af1b2",
   "metadata": {},
   "source": [
    "# HTTPS Deployment with CloudFront"
   ]
  },
  {
   "cell_type": "markdown",
   "id": "b4935283-78a7-4f96-a2c3-f121b3ba059a",
   "metadata": {
    "jp-MarkdownHeadingCollapsed": true
   },
   "source": [
    "**Secure Content Delivery Overview**\n",
    "\n",
    "Amazon CloudFront enables end-to-end encrypted content delivery, ensuring privacy and data integrity for viewer requests. The directory supports HTTPS deployment through a combination of configuration files, certificates, and policy settings.\n",
    "\n",
    "**Key Steps for HTTPS Enablement**\n",
    "1. **Obtain SSL/TLS Certificate:** Use AWS Certificate Manager (ACM) to request or import an SSL certificate (recommended via DNS validation), covering the required domain and any alternate names16.\n",
    "\n",
    "2. **Update CloudFront Distribution Configuration:** Reference the ACM certificate ARN in the ViewerCertificate section of distribution-config.json, specifying SSLSupportMethod and MinimumProtocolVersion (preferably TLSv1.2_2018 or higher).\n",
    "\n",
    "Example:"
   ]
  },
  {
   "cell_type": "raw",
   "id": "20decedc-733f-4936-8722-374a92b86931",
   "metadata": {},
   "source": [
    "\"ViewerCertificate\": {\n",
    "    \"ACMCertificateArn\": \"arn:aws:acm:us-east-1:ACCOUNT_ID:certificate/EXAMPLE\",\n",
    "    \"SSLSupportMethod\": \"sni-only\",\n",
    "    \"MinimumProtocolVersion\": \"TLSv1.2_2018\"\n",
    "}"
   ]
  },
  {
   "cell_type": "markdown",
   "id": "c0d1e19e-9e61-405b-8283-6c765be8b34b",
   "metadata": {},
   "source": [
    "3. **Configure Viewer Protocol Policy:** Set the ViewerProtocolPolicy to redirect-to-https or https-only in each cache behavior to force secure connections for all clients.\n",
    "\n",
    "4. **Route 53 Alias Mapping:** Create alias records pointing from custom domains to the CloudFront distribution. Ensure these records match the certificate’s SANs.\n",
    "\n",
    "5. **Testing and Validation:** After deployment, test end-to-end access (including custom domains) using HTTPS, checking for the expected SSL/TLS handshake and absence of mixed-content warnings.\n",
    "\n",
    "6. **Deployment Logs and Monitoring:** Use deployment logs and CloudFront standard logs to confirm protocol negotiation, cache hits, and certificate validity. Monitor logs for ssl_protocol and ssl_cipher fields to ensure compliance with security policies."
   ]
  },
  {
   "cell_type": "markdown",
   "id": "205262cb-d533-4096-823d-f56dad48c13b",
   "metadata": {},
   "source": [
    "Security Tips:\n",
    "- Regularly update certificates and cryptographic libraries.\n",
    "- Monitor AWS advisories on vulnerabilities (e.g., libcrypto, Python runtime issues).\n",
    "- Enforce modern TLS versions to mitigate downgrade and protocol attacks."
   ]
  },
  {
   "cell_type": "markdown",
   "id": "013b096a-c8a4-47b8-b448-1a9454985031",
   "metadata": {},
   "source": []
  },
  {
   "cell_type": "markdown",
   "id": "fbcedfad-e685-4bb6-86d4-419f7237f1d0",
   "metadata": {},
   "source": [
    "# Continuous Deployment and Staging (Advanced)"
   ]
  },
  {
   "cell_type": "markdown",
   "id": "7d9d4453-cc48-496e-b6b1-99cd1871379c",
   "metadata": {},
   "source": [
    "CloudFront supports continuous deployment, allowing testing of changes in a staging distribution with real production traffic before full rollout. The directory supports this paradigm with configuration files for both primary and staging distributions, deployment logs tracking policy application, and Lambda@Edge scripts for advanced routing1719.\n",
    "\n",
    "Process:\n",
    "1. Create a staging distribution derived from the primary.\n",
    "2. Use continuous deployment policies to steer a fraction of production traffic to the staging version.\n",
    "3. Monitor outcomes (latency, errors, success rates) using deployment and access logs.\n",
    "4. Promote tested changes to primary upon validation.\n",
    "\n",
    "Deployment logging is critical for managing rollback, analyzing incremental releases, and ensuring continuous delivery reliability."
   ]
  },
  {
   "cell_type": "markdown",
   "id": "bb837101-43f3-43a7-8c96-be9e1a0a6111",
   "metadata": {},
   "source": []
  },
  {
   "cell_type": "markdown",
   "id": "518f0ab1-5f27-4bc2-85fc-0eb2fc9e1219",
   "metadata": {},
   "source": [
    "# Emotional Infrastructure Mapping"
   ]
  },
  {
   "cell_type": "markdown",
   "id": "c635fbf5-ea73-4859-9cd1-581e9c66ec83",
   "metadata": {},
   "source": [
    "Emotional infrastructure mapping represents a modern approach to understanding system dynamics, focusing on the experience and \"well-being\" of both users and operators in cloud environments. Behavioral mapping documents (behavior-map.md) and echo documentation (rf-echo-01.md) provide blueprints for:\n",
    "\n",
    "- **Mapping path patterns and cache behaviors** to observable user outcomes (latency, errors, content availability).\n",
    "\n",
    "- **Tracking the emotional impact** of infrastructure changes, outages, or reconfigurations, and ensuring documentation places a premium on human factors (e.g., operational stress, end-user satisfaction)2.\n",
    "\n",
    "These insights drive continuous improvement and resilient system design."
   ]
  },
  {
   "cell_type": "markdown",
   "id": "4da809c5-5992-46e3-b741-2cac44f33fbf",
   "metadata": {},
   "source": []
  },
  {
   "cell_type": "markdown",
   "id": "33b9282f-2149-4d17-8d85-c983999d40b0",
   "metadata": {},
   "source": [
    "# Conclusion"
   ]
  },
  {
   "cell_type": "markdown",
   "id": "64018ec5-30a6-4f87-9678-f8d0f5d5e556",
   "metadata": {},
   "source": [
    "The D:\\AWS directory provides an integrated, secure, and easily extensible platform for advanced CloudFront deployment infrastructures. By systematically combining well-structured configuration files, robust logging, critical operational binaries, and systematic documentation, this directory significantly reduces deployment pain points and accelerates reliable, repeatable delivery cycles. Future readers or contributors are encouraged to update supporting Markdown documentation in step with infrastructural changes to maintain a high degree of clarity and operational transparency.\n",
    "\n",
    "If you are deploying, modifying, or auditing CloudFront, Route 53, or Lambda@Edge resources, always refer to the latest documentation files and deployment logs in this directory as the single source of truth for all environment-critical details."
   ]
  }
 ],
 "metadata": {
  "kernelspec": {
   "display_name": "Python 3 (ipykernel)",
   "language": "python",
   "name": "python3"
  },
  "language_info": {
   "codemirror_mode": {
    "name": "ipython",
    "version": 3
   },
   "file_extension": ".py",
   "mimetype": "text/x-python",
   "name": "python",
   "nbconvert_exporter": "python",
   "pygments_lexer": "ipython3",
   "version": "3.10.16"
  }
 },
 "nbformat": 4,
 "nbformat_minor": 5
}
