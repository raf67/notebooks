{
 "cells": [
  {
   "cell_type": "markdown",
   "id": "4a390b01-7b9f-4ddd-8d66-8ba6041a9d3b",
   "metadata": {},
   "source": [
    "# Options"
   ]
  },
  {
   "cell_type": "markdown",
   "id": "41d244d4-1203-4bbd-a3e1-8d4be3d10606",
   "metadata": {},
   "source": [
    "## Batch Script for MongoDB & Node.js"
   ]
  },
  {
   "cell_type": "markdown",
   "id": "b7b0f1ba-d282-4eb5-bada-078b8fbf21e1",
   "metadata": {},
   "source": [
    "## Automate With Node.js"
   ]
  },
  {
   "cell_type": "code",
   "execution_count": null,
   "id": "983d83c6-91aa-4df3-9ae4-da9a95e537a4",
   "metadata": {},
   "outputs": [],
   "source": [
    "const { exec } = require(\"child_process\");\n",
    "\n",
    "console.log(\"Starting MongoDB...\");\n",
    "exec('start \"\" \"D:\\\\MongoDB\\\\bin\\\\mongod.exe\" --dbpath \"D:\\\\MongoDB\\\\data\"', () => {\n",
    "  console.log(\"MongoDB started!\");\n",
    "\n",
    "  console.log(\"Navigating to project...\");\n",
    "  process.chdir(\"D:\\\\xampp\\\\htdocs\\\\richardfrancis\");\n",
    "\n",
    "  console.log(\"Starting Node.js app...\");\n",
    "  exec(\"node database.js\", (err, stdout, stderr) => {\n",
    "    if (err) console.error(\"Error:\", stderr);\n",
    "    else console.log(stdout);\n",
    "  });\n",
    "});\n"
   ]
  },
  {
   "cell_type": "markdown",
   "id": "b1305250-be0d-47f4-8a62-63d6c2b030b2",
   "metadata": {},
   "source": [
    "1. Web-Based Admin Panel (HTML + Express + MongoDB)"
   ]
  },
  {
   "cell_type": "markdown",
   "id": "7c85c13f-f69f-4711-9caf-0867ad37f653",
   "metadata": {},
   "source": [
    "- Install Express & Passport.js (for authentication)"
   ]
  },
  {
   "cell_type": "code",
   "execution_count": null,
   "id": "46bc763b-9431-4ff8-81a8-7aea40ca5b06",
   "metadata": {},
   "outputs": [],
   "source": [
    "npm install express passport passport-local bcryptjs mongoose ejs"
   ]
  },
  {
   "cell_type": "markdown",
   "id": "af638c0e-eb60-4a18-b191-8a25222cea4a",
   "metadata": {},
   "source": [
    "- Create an Express.js app"
   ]
  },
  {
   "cell_type": "markdown",
   "id": "16e3f9f0-4688-414a-97c9-5018898f7830",
   "metadata": {},
   "source": [
    "server.js"
   ]
  },
  {
   "cell_type": "code",
   "execution_count": null,
   "id": "6e06b35f-e157-4af6-9c13-fa84f6d6e619",
   "metadata": {},
   "outputs": [],
   "source": [
    "const express = require('express');\n",
    "const mongoose = require('mongoose');\n",
    "const passport = require('passport');\n",
    "const session = require('express-session');\n",
    "const bcrypt = require('bcryptjs');\n",
    "const User = require('./models/User'); // Define user schema in Mongoose\n",
    "\n",
    "const app = express();\n",
    "app.set('view engine', 'ejs'); // Use EJS templates\n",
    "\n",
    "// Connect MongoDB\n",
    "mongoose.connect('mongodb://127.0.0.1:27017/mydatabase')\n",
    "  .then(() => console.log('✅ MongoDB connected'))\n",
    "  .catch(err => console.error('❌ Connection error:', err));\n",
    "\n",
    "// Login page\n",
    "app.get('/login', (req, res) => {\n",
    "  res.render('login'); // HTML form for login\n",
    "});\n",
    "\n",
    "// Start server\n",
    "app.listen(3000, () => console.log('✅ Server running at http://localhost:3000'));"
   ]
  },
  {
   "cell_type": "code",
   "execution_count": null,
   "id": "cad93a1f-67e0-4219-991f-040b00910e69",
   "metadata": {},
   "outputs": [],
   "source": [
    "Then create views/login.ejs with an HTML form for login."
   ]
  },
  {
   "cell_type": "code",
   "execution_count": null,
   "id": "07f30844-2f02-48f5-93af-18fa2db7c5fa",
   "metadata": {},
   "outputs": [],
   "source": [
    "2. Tkinter-Based Desktop App"
   ]
  },
  {
   "cell_type": "code",
   "execution_count": null,
   "id": "a7d22643-11be-4a35-ad30-4e8df9ae6632",
   "metadata": {},
   "outputs": [],
   "source": [
    "pip install pymongo flask"
   ]
  },
  {
   "cell_type": "code",
   "execution_count": null,
   "id": "db0ba835-d01b-45ee-9605-0eeab891b1b0",
   "metadata": {},
   "outputs": [],
   "source": [
    "import tkinter as tk\n",
    "from pymongo import MongoClient\n",
    "\n",
    "client = MongoClient(\"mongodb://127.0.0.1:27017/\")\n",
    "db = client[\"myDatabase\"]\n",
    "users = db[\"users\"]\n",
    "\n",
    "def login():\n",
    "    username = entry_username.get()\n",
    "    password = entry_password.get()\n",
    "    user = users.find_one({\"username\": username, \"password\": password})\n",
    "    if user:\n",
    "        label_status.config(text=\"✅ Login successful\")\n",
    "    else:\n",
    "        label_status.config(text=\"❌ Invalid credentials\")\n",
    "\n",
    "root = tk.Tk()\n",
    "root.title(\"Admin Login\")\n",
    "\n",
    "tk.Label(root, text=\"Username:\").pack()\n",
    "entry_username = tk.Entry(root)\n",
    "entry_username.pack()\n",
    "\n",
    "tk.Label(root, text=\"Password:\").pack()\n",
    "entry_password = tk.Entry(root, show=\"*\")\n",
    "entry_password.pack()\n",
    "\n",
    "tk.Button(root, text=\"Login\", command=login).pack()\n",
    "label_status = tk.Label(root)\n",
    "label_status.pack()\n",
    "\n",
    "root.mainloop()\n"
   ]
  },
  {
   "cell_type": "markdown",
   "id": "40008070-a08f-4031-b998-e46c86298ee5",
   "metadata": {},
   "source": [
    "3. CLI-Based Login"
   ]
  },
  {
   "cell_type": "markdown",
   "id": "0cb83240-c61b-485f-96b0-e3ce1910ad73",
   "metadata": {},
   "source": [
    "If you want something clickable but simple, you can make a Node.js CLI admin tool:"
   ]
  },
  {
   "cell_type": "code",
   "execution_count": null,
   "id": "bd03a5a6-c008-4533-b501-ccdbdf7bfea2",
   "metadata": {},
   "outputs": [],
   "source": [
    "@echo off\n",
    "node login.js\n",
    "pause"
   ]
  },
  {
   "cell_type": "markdown",
   "id": "70c55d77-49f4-4c0d-b74e-552672ff317d",
   "metadata": {},
   "source": [
    "js"
   ]
  },
  {
   "cell_type": "code",
   "execution_count": null,
   "id": "b33628f2-89b7-4fe4-bf3f-8f8fae7417c5",
   "metadata": {},
   "outputs": [],
   "source": [
    "const readline = require(\"readline\");\n",
    "const mongoose = require(\"mongoose\");\n",
    "const User = require(\"./models/User\"); // Mongoose model\n",
    "\n",
    "mongoose.connect('mongodb://127.0.0.1:27017/myDatabase');\n",
    "\n",
    "const rl = readline.createInterface({\n",
    "  input: process.stdin,\n",
    "  output: process.stdout\n",
    "});\n",
    "\n",
    "rl.question(\"Enter username: \", username => {\n",
    "  rl.question(\"Enter password: \", password => {\n",
    "    User.findOne({ username, password })\n",
    "      .then(user => {\n",
    "        if (user) console.log(\"✅ Login successful\");\n",
    "        else console.log(\"❌ Invalid credentials\");\n",
    "        rl.close();\n",
    "      });\n",
    "  });\n",
    "});"
   ]
  },
  {
   "cell_type": "markdown",
   "id": "4aa08f34-c718-45ec-94c3-9f7bf62a56c9",
   "metadata": {},
   "source": [
    ".bat"
   ]
  },
  {
   "cell_type": "code",
   "execution_count": null,
   "id": "9a079846-b7ae-4c67-a3ce-ba5570c7f4ef",
   "metadata": {},
   "outputs": [],
   "source": [
    "@echo off\n",
    "node login.js\n",
    "pause"
   ]
  },
  {
   "cell_type": "code",
   "execution_count": null,
   "id": "cb70c46a-ea7a-4dd7-bd17-d2edd03ba977",
   "metadata": {},
   "outputs": [],
   "source": []
  },
  {
   "cell_type": "markdown",
   "id": "435fc6c5-875e-47b8-b21d-4cde7c2f71c7",
   "metadata": {},
   "source": [
    "# Corona System Integration"
   ]
  },
  {
   "cell_type": "code",
   "execution_count": null,
   "id": "d0170ea4-4ab1-476d-902b-dd76786064fb",
   "metadata": {},
   "outputs": [],
   "source": [
    "D:\\>raf\n",
    "✅ MongoDB connected successfully\n",
    "⚠️ User already exists: {\n",
    "  _id: new ObjectId('68331f676e2955362277179c'),\n",
    "  name: 'Richard',\n",
    "  age: 42,\n",
    "  email: 'richard@example.com',\n",
    "  createdAt: 2025-05-25T13:47:19.374Z,\n",
    "  updatedAt: 2025-05-25T13:47:19.374Z,\n",
    "  __v: 0\n",
    "}"
   ]
  },
  {
   "cell_type": "markdown",
   "id": "049a399a-fc66-48e3-ae89-ff85a34307e2",
   "metadata": {},
   "source": [
    "## Step 1: Create a Login Route in Express.js"
   ]
  },
  {
   "cell_type": "markdown",
   "id": "d0a8bf45-cac3-40f5-8a38-928e1de4363d",
   "metadata": {},
   "source": [
    "server.js"
   ]
  },
  {
   "cell_type": "code",
   "execution_count": null,
   "id": "809495bd-cee4-412b-a2cc-6167e0edfba3",
   "metadata": {},
   "outputs": [],
   "source": [
    "const express = require(\"express\");\n",
    "const mongoose = require(\"mongoose\");\n",
    "\n",
    "// Initialize Express App\n",
    "const app = express();\n",
    "app.use(express.json()); // Enable JSON parsing\n",
    "\n",
    "// Connect to MongoDB\n",
    "mongoose.connect(\"mongodb://127.0.0.1:27017/myDatabase\")\n",
    "  .then(() => console.log(\"✅ MongoDB connected\"))\n",
    "  .catch(err => console.error(\"❌ Connection error:\", err));\n",
    "\n",
    "// Import Routes\n",
    "const authRoutes = require(\"./routes/auth\"); // Handles login\n",
    "const userRoutes = require(\"./routes/users\"); // Handles new user creation\n",
    "\n",
    "// Use Routes\n",
    "app.use(\"/auth\", authRoutes);\n",
    "app.use(\"/users\", userRoutes);\n",
    "\n",
    "// Start the server\n",
    "app.listen(3000, () => console.log(\"✅ Server running at http://localhost:3000\"));\n"
   ]
  },
  {
   "cell_type": "markdown",
   "id": "d2624f0c-dfb6-4af8-9e66-4428e328425e",
   "metadata": {},
   "source": [
    "auth.js"
   ]
  },
  {
   "cell_type": "code",
   "execution_count": null,
   "id": "1c0409aa-c3e3-4440-b4e9-77cc44bb202f",
   "metadata": {},
   "outputs": [],
   "source": [
    "const express = require(\"express\");\n",
    "const bcrypt = require(\"bcryptjs\");\n",
    "const User = require(\"../models/User\"); // Reference Mongoose model\n",
    "\n",
    "const router = express.Router();\n",
    "\n",
    "router.post(\"/login\", async (req, res) => {\n",
    "  const { email, password } = req.body;\n",
    "  const user = await User.findOne({ email });\n",
    "\n",
    "  if (!user || !bcrypt.compareSync(password, user.password)) {\n",
    "    return res.status(401).json({ message: \"❌ Invalid credentials\" });\n",
    "  }\n",
    "  \n",
    "  res.json({ message: \"✅ Login successful\", user });\n",
    "});\n",
    "\n",
    "module.exports = router;\n"
   ]
  },
  {
   "cell_type": "markdown",
   "id": "c894c105-2308-4ae1-ac34-4130b752065a",
   "metadata": {},
   "source": [
    "users.js"
   ]
  },
  {
   "cell_type": "code",
   "execution_count": null,
   "id": "8f48b7cb-901b-4d95-b138-e3e728c6f8c7",
   "metadata": {},
   "outputs": [],
   "source": [
    "const express = require(\"express\");\n",
    "const bcrypt = require(\"bcryptjs\");\n",
    "const User = require(\"../models/User\");\n",
    "\n",
    "const router = express.Router();\n",
    "\n",
    "router.post(\"/register\", async (req, res) => {\n",
    "  const { name, age, email, password } = req.body;\n",
    "\n",
    "  const existingUser = await User.findOne({ email });\n",
    "  if (existingUser) return res.status(409).json({ message: \"⚠️ User already exists\" });\n",
    "\n",
    "  const hashedPassword = bcrypt.hashSync(password, 10);\n",
    "  const user = new User({ name, age, email, password: hashedPassword });\n",
    "\n",
    "  await user.save();\n",
    "  res.json({ message: \"✅ User registered successfully\", user });\n",
    "});\n",
    "\n",
    "module.exports = router;"
   ]
  },
  {
   "cell_type": "markdown",
   "id": "755e7e72-12cd-4a4f-a8bd-a2935e1906b5",
   "metadata": {},
   "source": [
    "database.js"
   ]
  },
  {
   "cell_type": "code",
   "execution_count": null,
   "id": "af29e0f1-a16f-42e4-bc45-5c2bc46db6fe",
   "metadata": {},
   "outputs": [],
   "source": [
    "const mongoose = require('mongoose');\n",
    "\n",
    "// Connect to MongoDB\n",
    "mongoose.connect('mongodb://127.0.0.1:27017/myDatabase')\n",
    "  .then(() => console.log('✅ MongoDB connected successfully'))\n",
    "  .catch(err => console.error('❌ Connection error:', err));\n",
    "\n",
    "module.exports = mongoose; // Export connection so other files can use it"
   ]
  },
  {
   "cell_type": "markdown",
   "id": "6a56b848-ca65-4852-b593-0c8fd3ca8351",
   "metadata": {},
   "source": [
    "### Test Everything"
   ]
  },
  {
   "cell_type": "markdown",
   "id": "f7d38384-e682-432c-b145-83dded346be5",
   "metadata": {},
   "source": [
    "- User Registration Test"
   ]
  },
  {
   "cell_type": "code",
   "execution_count": null,
   "id": "cbd48bf4-effc-4780-bc52-868a4720a824",
   "metadata": {},
   "outputs": [],
   "source": [
    "curl -X POST http://localhost:3000/users/register -H \"Content-Type: application/json\" \\\n",
    "--data '{\"name\":\"Richard\",\"age\":57,\"email\":\"richardfrancis1967@outlook.com\",\"password\":\"123\"}'\n"
   ]
  },
  {
   "cell_type": "code",
   "execution_count": null,
   "id": "538780ab-312a-41ba-afea-b4c9bcf979ff",
   "metadata": {},
   "outputs": [],
   "source": [
    "richardfrancis/src/pages/samples/register.html"
   ]
  },
  {
   "cell_type": "markdown",
   "id": "bb04ecb1-990e-41fc-b897-a43c9295cfcb",
   "metadata": {},
   "source": [
    "- User Login Test"
   ]
  },
  {
   "cell_type": "code",
   "execution_count": null,
   "id": "e146a102-2402-43a7-9986-3ad2bdf89247",
   "metadata": {},
   "outputs": [],
   "source": [
    "curl -X POST http://localhost:3000/auth/login -H \"Content-Type: application/json\" \\\n",
    "--data '{\"email\":\"richard@example.com\",\"password\":\"securepassword\"}'\n"
   ]
  },
  {
   "cell_type": "markdown",
   "id": "f7d4194e-9424-4716-8c5b-f0342d7eaf6a",
   "metadata": {},
   "source": [
    "### Integrate Routes into"
   ]
  },
  {
   "cell_type": "markdown",
   "id": "149e3afa-91d8-4cf7-be66-d0ba3fd0da89",
   "metadata": {},
   "source": [
    "server.js"
   ]
  },
  {
   "cell_type": "code",
   "execution_count": null,
   "id": "764d1bcf-9f81-4629-99b4-1a0340cf392d",
   "metadata": {},
   "outputs": [],
   "source": [
    "const express = require(\"express\");\n",
    "const mongoose = require(\"mongoose\");\n",
    "\n",
    "// Initialize Express App\n",
    "const app = express();\n",
    "app.use(express.json()); // Enable JSON parsing\n",
    "\n",
    "// Connect to MongoDB\n",
    "mongoose.connect(\"mongodb://127.0.0.1:27017/myDatabase\")\n",
    "  .then(() => console.log(\"✅ MongoDB connected\"))\n",
    "  .catch(err => console.error(\"❌ Connection error:\", err));\n",
    "\n",
    "// Import Routes\n",
    "const authRoutes = require(\"./routes/auth\"); // Handles login\n",
    "const userRoutes = require(\"./routes/users\"); // Handles new user creation\n",
    "\n",
    "// Use Routes\n",
    "app.use(\"/auth\", authRoutes);\n",
    "app.use(\"/users\", userRoutes);\n",
    "\n",
    "// Start the server\n",
    "app.listen(3000, () => console.log(\"✅ Server running at http://localhost:3000\"));\n",
    "\n"
   ]
  },
  {
   "cell_type": "markdown",
   "id": "ac1c3aa5-6ce8-4847-8da6-000fd5b1285a",
   "metadata": {},
   "source": [
    "### Delete myNewDatabase and mydatabae"
   ]
  },
  {
   "cell_type": "code",
   "execution_count": null,
   "id": "c1eca314-7f44-4e8b-9ebb-82f47e704c61",
   "metadata": {},
   "outputs": [],
   "source": [
    "use myNewDatabase\n",
    "db.dropDatabase()"
   ]
  },
  {
   "cell_type": "code",
   "execution_count": null,
   "id": "75819cad-fecb-4e94-83e6-0ef921f05105",
   "metadata": {},
   "outputs": [],
   "source": [
    "use mydatabase\n",
    "db.dropDatabase()"
   ]
  },
  {
   "cell_type": "markdown",
   "id": "4a3e05ea-8e56-438e-bcd7-f5fd49854da1",
   "metadata": {},
   "source": [
    "## Step 2: Modify Your Login Page to Send Requests"
   ]
  },
  {
   "cell_type": "markdown",
   "id": "8790a3db-5505-437e-9aba-65844e9a0754",
   "metadata": {},
   "source": [
    "**login.html**"
   ]
  },
  {
   "cell_type": "code",
   "execution_count": null,
   "id": "d7ea6129-690c-4396-85f1-4f08d3b2ea64",
   "metadata": {},
   "outputs": [],
   "source": [
    "<form id=\"loginForm\">\n",
    "  <div class=\"form-group\">\n",
    "    <label>Username or email *</label>\n",
    "    <input type=\"text\" class=\"form-control p_input\" id=\"email\">\n",
    "  </div>\n",
    "  <div class=\"form-group\">\n",
    "    <label>Password *</label>\n",
    "    <input type=\"password\" class=\"form-control p_input\" id=\"password\">\n",
    "  </div>\n",
    "  <div class=\"text-center d-grid gap-2\">\n",
    "    <button type=\"submit\" class=\"btn btn-primary btn-block enter-btn\">Login</button>\n",
    "  </div>\n",
    "</form>\n",
    "\n",
    "<script>\n",
    "document.getElementById(\"loginForm\").addEventListener(\"submit\", async function(event) {\n",
    "  event.preventDefault();\n",
    "\n",
    "  const email = document.getElementById(\"email\").value;\n",
    "  const password = document.getElementById(\"password\").value;\n",
    "\n",
    "  const response = await fetch(\"http://localhost:3000/login\", {\n",
    "    method: \"POST\",\n",
    "    headers: { \"Content-Type\": \"application/json\" },\n",
    "    body: JSON.stringify({ email, password })\n",
    "  });\n",
    "\n",
    "  const data = await response.json();\n",
    "  alert(data.message);\n",
    "});\n",
    "</script>"
   ]
  },
  {
   "cell_type": "markdown",
   "id": "1178b062-b38d-4dc4-a5b3-1374c27e4783",
   "metadata": {},
   "source": [
    "Sends user input to Express.js API ✔ Handles login response dynamically"
   ]
  },
  {
   "cell_type": "markdown",
   "id": "5cff7a09-7a4b-4a66-8c29-c6e23f4fe16f",
   "metadata": {},
   "source": [
    "# #Step 3: Test Your Login"
   ]
  },
  {
   "cell_type": "code",
   "execution_count": null,
   "id": "66accc1a-66b6-48bb-ba07-5a238431835d",
   "metadata": {},
   "outputs": [],
   "source": [
    "mongod --dbpath \"D:\\MongoDB\\data\""
   ]
  },
  {
   "cell_type": "code",
   "execution_count": null,
   "id": "3d3777f0-2bbe-458b-94fc-041b35a47d54",
   "metadata": {},
   "outputs": [],
   "source": [
    "node server.js"
   ]
  },
  {
   "cell_type": "markdown",
   "id": "38480e95-d24d-47bb-85ec-259aff1e6636",
   "metadata": {},
   "source": [
    "express → Handles HTTP requests ✔ mongoose → Connects to MongoDB ✔ bcryptjs → Hashes passwords securely\n",
    "\n",
    "If you're planning to manage user sessions, install express-session:"
   ]
  },
  {
   "cell_type": "code",
   "execution_count": null,
   "id": "4a01ea7a-07a2-43d4-9fbc-0e09a5a6d25c",
   "metadata": {},
   "outputs": [],
   "source": [
    "npm install express-session"
   ]
  },
  {
   "cell_type": "code",
   "execution_count": null,
   "id": "41b63ff2-0a33-4311-8254-3c3b670d7029",
   "metadata": {},
   "outputs": [],
   "source": [
    "npm list express mongoose bcryptjs"
   ]
  },
  {
   "cell_type": "markdown",
   "id": "01d47c71-6016-4077-a7a3-3cbd0cb0e27f",
   "metadata": {},
   "source": [
    "D:\\xampp\\htdocs\\richardfrancis>npm list express mongoose bcryptjs\n",
    "corona_admin@3.0.0 D:\\xampp\\htdocs\\richardfrancis\n",
    "+-- bcryptjs@3.0.2\n",
    "+-- express@5.1.0\n",
    "`-- mongoose@8.15.0\n",
    "\n",
    "\n",
    "D:\\xampp\\htdocs\\richardfrancis>"
   ]
  },
  {
   "cell_type": "code",
   "execution_count": null,
   "id": "25aa30ef-ab60-4d88-8bcc-95bfe1a8cf78",
   "metadata": {},
   "outputs": [],
   "source": []
  },
  {
   "cell_type": "code",
   "execution_count": null,
   "id": "ba77077e-0b59-4a34-aec9-22e4a2697cc2",
   "metadata": {},
   "outputs": [],
   "source": [
    "**to do list**"
   ]
  },
  {
   "cell_type": "markdown",
   "id": "d1e48692-511c-4508-8f4d-57faf07bf26f",
   "metadata": {},
   "source": [
    "Test login & registration ✅ View MongoDB records using queries ✅ Refine integration with PHP or start moving functionality into Node.js"
   ]
  },
  {
   "cell_type": "code",
   "execution_count": 2,
   "id": "a848d59e-dde9-4d11-b0c6-02e7cc082df0",
   "metadata": {},
   "outputs": [
    {
     "name": "stdout",
     "output_type": "stream",
     "text": [
      "                                              player  \\\n",
      "0  {\"id\":286,\"name\":\"J. Matip\",\"firstname\":\"Job J...   \n",
      "1  {\"id\":294,\"name\":\"N. Ke\\u00efta\",\"firstname\":\"...   \n",
      "2  {\"id\":297,\"name\":\"A. Oxlade-Chamberlain\",\"firs...   \n",
      "3  {\"id\":507,\"name\":\"Thiago Alc\\u00e2ntara\",\"firs...   \n",
      "4  {\"id\":135525,\"name\":\"C. Ramsay\",\"firstname\":\"C...   \n",
      "\n",
      "                                          statistics  \n",
      "0  [{\"team\":{\"id\":40,\"name\":\"Liverpool\",\"logo\":\"h...  \n",
      "1  [{\"team\":{\"id\":40,\"name\":\"Liverpool\",\"logo\":\"h...  \n",
      "2  [{\"team\":{\"id\":40,\"name\":\"Liverpool\",\"logo\":\"h...  \n",
      "3  [{\"team\":{\"id\":40,\"name\":\"Liverpool\",\"logo\":\"h...  \n",
      "4  [{\"team\":{\"id\":40,\"name\":\"Liverpool\",\"logo\":\"h...  \n"
     ]
    }
   ],
   "source": [
    "import pandas as pd\n",
    "\n",
    "df = pd.read_csv(\"football_api_data.csv\")\n",
    "print(df.head())  # Displays first few rows"
   ]
  },
  {
   "cell_type": "code",
   "execution_count": 3,
   "id": "ee235a44-7ade-469d-a63b-1a180e5077c3",
   "metadata": {},
   "outputs": [
    {
     "name": "stdout",
     "output_type": "stream",
     "text": [
      "JSON file created successfully!\n"
     ]
    }
   ],
   "source": [
    "import pandas as pd\n",
    "\n",
    "# Load the CSV file\n",
    "df = pd.read_csv(\"football_api_data.csv\")\n",
    "\n",
    "# Convert DataFrame to JSON format (MongoDB-friendly)\n",
    "df.to_json(\"football_api_data.json\", orient=\"records\", indent=4)\n",
    "\n",
    "print(\"JSON file created successfully!\")"
   ]
  },
  {
   "cell_type": "code",
   "execution_count": null,
   "id": "f8cb7dad-806f-43ce-a3fd-c868ccc2ebaa",
   "metadata": {},
   "outputs": [],
   "source": [
    "mongoimport --db myDatabase --collection excelDataLFC --file D:\\Richard\\Notebook\\football_api_data.json --jsonArray"
   ]
  },
  {
   "cell_type": "code",
   "execution_count": null,
   "id": "ec52bfc6-d8be-4721-bd02-e00a8bca599b",
   "metadata": {},
   "outputs": [],
   "source": [
    "mongoimport --db myDatabase --collection excelDataWOW --file D:\\Richard\\Notebook\\wow.json --jsonArray"
   ]
  }
 ],
 "metadata": {
  "kernelspec": {
   "display_name": "Python 3 (ipykernel)",
   "language": "python",
   "name": "python3"
  },
  "language_info": {
   "codemirror_mode": {
    "name": "ipython",
    "version": 3
   },
   "file_extension": ".py",
   "mimetype": "text/x-python",
   "name": "python",
   "nbconvert_exporter": "python",
   "pygments_lexer": "ipython3",
   "version": "3.10.16"
  }
 },
 "nbformat": 4,
 "nbformat_minor": 5
}
