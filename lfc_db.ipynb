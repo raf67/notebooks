{
 "cells": [
  {
   "cell_type": "markdown",
   "id": "4bb7c2b2-e5b9-420e-a1f0-331884183335",
   "metadata": {},
   "source": [
    "# Liverpool FC"
   ]
  },
  {
   "cell_type": "markdown",
   "id": "2f0019c0-a3a8-4e68-84ff-debb3c9d88cc",
   "metadata": {},
   "source": [
    "- database"
   ]
  },
  {
   "cell_type": "markdown",
   "id": "75322bfc-6b77-47cb-b7fa-913a99ab0b4d",
   "metadata": {},
   "source": [
    "## team"
   ]
  },
  {
   "cell_type": "code",
   "execution_count": null,
   "id": "74c852be-0318-4beb-8d7a-a9a47ba1be09",
   "metadata": {},
   "outputs": [],
   "source": [
    "CREATE TABLE team (\n",
    "    team_id INT PRIMARY KEY AUTO_INCREMENT,\n",
    "    team_name VARCHAR(255) NOT NULL,\n",
    "    team_emblem VARCHAR(255),\n",
    "    founded_year INT,\n",
    "    stadium VARCHAR(255),\n",
    "    manager VARCHAR(255),\n",
    "    league VARCHAR(255)\n",
    ");\n"
   ]
  },
  {
   "cell_type": "markdown",
   "id": "17a815b4-50f8-47bf-901b-ffb444f10bba",
   "metadata": {},
   "source": [
    "## players"
   ]
  },
  {
   "cell_type": "code",
   "execution_count": null,
   "id": "faa31bd2-7bc0-4482-b050-c24ffb6f4ee7",
   "metadata": {},
   "outputs": [],
   "source": [
    "CREATE TABLE Player (\n",
    "    player_id INT PRIMARY KEY,\n",
    "    name VARCHAR(255) NOT NULL,\n",
    "    position VARCHAR(50),\n",
    "    start_date DATE,\n",
    "    end_date DATE,\n",
    "    nationality VARCHAR(100),\n",
    "    dob DATE,\n",
    "    team_id INT DEFAULT 1,\n",
    "    FOREIGN KEY (team_id) REFERENCES team(team_id)\n",
    ");\n"
   ]
  },
  {
   "cell_type": "code",
   "execution_count": null,
   "id": "6929a81d-62c9-4a8b-a531-97c6315ef9cd",
   "metadata": {},
   "outputs": [],
   "source": [
    "<?php\n",
    "require 'classes/db.php'; // Ensure your Database class is included\n",
    "\n",
    "// Sample data\n",
    "$data = [\n",
    "    \"Ron Yeats, Defender, 1961-1971\",\n",
    "    \"Samed Yesil, Forward, 2012\",\n",
    "    \"Tommy Younger, Goalkeeper, 1956-1959\"\n",
    "];\n",
    "\n",
    "// Create a new database connection\n",
    "$db = new Database(\"4\");\n",
    "\n",
    "// Prepare the SQL statement\n",
    "$stmt = $db->prepare(\"INSERT INTO player (name, position, start_date, end_date, nationality, dob, team_id) VALUES (?, ?, ?, ?, ?, ?, ?)\");\n",
    "\n",
    "// Loop through the data and insert each record\n",
    "foreach ($data as $line) {\n",
    "    // Split the line into name, position, and date data\n",
    "    list($name, $position, $dateData) = explode(\", \", $line);\n",
    "    \n",
    "    // Handle start and end dates\n",
    "    if (strpos($dateData, '-') !== false) {\n",
    "        list($startDate, $endDate) = explode(\"-\", $dateData);\n",
    "        $startDate = trim($startDate);\n",
    "        $endDate = trim($endDate);\n",
    "    } else {\n",
    "        $startDate = trim($dateData);\n",
    "        $endDate = null; // No end date provided\n",
    "    }\n",
    "\n",
    "    // Set default values for nationality, dob, and team_id\n",
    "    $nationality = null; // Set to NULL or a default value if you have one\n",
    "    $dob = null; // Set to NULL or a specific date if you have one\n",
    "    $team_id = 1; // Default team ID, change if necessary\n",
    "\n",
    "    // Execute the prepared statement\n",
    "    $stmt->execute([$name, $position, $startDate, $endDate, $nationality, $dob, $team_id]);\n",
    "}\n",
    "\n",
    "// Close the statement and connection if necessary\n",
    "$stmt = null;\n",
    "$db = null;\n",
    "\n",
    "echo \"Records inserted successfully.\";\n",
    "?>\n"
   ]
  },
  {
   "cell_type": "markdown",
   "id": "63dd6e89-dded-48eb-ba54-44b77eb82c94",
   "metadata": {},
   "source": [
    "## trophy"
   ]
  },
  {
   "cell_type": "code",
   "execution_count": null,
   "id": "77e40ff6-5987-4edb-b7c7-73f3f59fff86",
   "metadata": {},
   "outputs": [],
   "source": [
    "CREATE TABLE trophy (\n",
    "    trophy_id INT AUTO_INCREMENT PRIMARY KEY,\n",
    "    trophy_img VARCHAR(100),\n",
    "    competition_name VARCHAR(100) NOT NULL,\n",
    "    competition_type VARCHAR(50) NOT NULL\n",
    ");\n",
    "\n",
    "INSERT INTO trophy (competition_name, competition_type) VALUES\n",
    "('League Title', 'Domestic'),\n",
    "('League Cup', 'Domestic'),\n",
    "('FA Cup', 'Domestic'),\n",
    "('Community Shield', 'Domestic'),\n",
    "('European Cup', 'International'),\n",
    "('UEFA Cup', 'International'),\n",
    "('UEFA Super Cup', 'International'),\n",
    "('World Cup', 'International');\n"
   ]
  },
  {
   "cell_type": "code",
   "execution_count": null,
   "id": "056448fd-58cc-45ae-b0f2-772f0f903d95",
   "metadata": {},
   "outputs": [],
   "source": [
    "- recommended"
   ]
  },
  {
   "cell_type": "code",
   "execution_count": null,
   "id": "b71561fe-7530-486e-854f-475caf6ffb00",
   "metadata": {},
   "outputs": [],
   "source": [
    "(2025, 'Arne Slot', '/football/trophies/league.png', 1);"
   ]
  },
  {
   "cell_type": "code",
   "execution_count": null,
   "id": "6877a387-3cdc-4361-870e-58e8953dbc65",
   "metadata": {},
   "outputs": [],
   "source": [
    "$base_path = $_SERVER['DOCUMENT_ROOT'] . \"/richardfrancis/\";\n",
    "$image_path = $base_path . $row['trophy_img']; \n",
    "echo \"<img src='$image_path' />\";\n"
   ]
  },
  {
   "cell_type": "code",
   "execution_count": null,
   "id": "0ecd692c-9591-4c0e-8bbd-6128ce21f38e",
   "metadata": {},
   "outputs": [],
   "source": [
    "CREATE TABLE lfc_managers (\n",
    "    id INT AUTO_INCREMENT PRIMARY KEY,\n",
    "    name VARCHAR(100),\n",
    "    nationality VARCHAR(50),\n",
    "    start_date DATE,\n",
    "    end_date VARCHAR(20),\n",
    "    matches_played INT,\n",
    "    wins INT,\n",
    "    draws INT,\n",
    "    losses INT,\n",
    "    goals_for INT,\n",
    "    goals_against INT,\n",
    "    win_percentage DECIMAL(5,2),\n",
    "    league_titles INT,\n",
    "    league_cups INT,\n",
    "    fa_cups INT,\n",
    "    league_cups_won INT,\n",
    "    community_shields INT,\n",
    "    european_cups INT,\n",
    "    uefa_cups INT,\n",
    "    uefa_super_cups INT,\n",
    "    world_cups INT,\n",
    "    total_honours INT\n",
    ");\n"
   ]
  },
  {
   "cell_type": "code",
   "execution_count": null,
   "id": "fea78487-93d4-42af-b626-006af1373ac0",
   "metadata": {},
   "outputs": [],
   "source": [
    "ALTER TABLE lfc_managers\n",
    "ADD COLUMN team_id INT DEFAULT 1,\n",
    "ADD FOREIGN KEY (team_id) REFERENCES team(team_id);"
   ]
  },
  {
   "cell_type": "code",
   "execution_count": null,
   "id": "5757dd73-a50a-40af-b285-fab3fa0e1457",
   "metadata": {},
   "outputs": [],
   "source": []
  },
  {
   "cell_type": "code",
   "execution_count": null,
   "id": "3edd6cc4-83fc-45e3-a3d5-2f6e38d86b6e",
   "metadata": {},
   "outputs": [],
   "source": [
    "CREATE TABLE honours (\n",
    "    trophy_id INT,\n",
    "    year_won YEAR,\n",
    "    manager_id INT,\n",
    "    team_id INT DEFAULT 1,  -- Added team_id to link honours to a team\n",
    "    PRIMARY KEY (trophy_id, year_won, manager_id, team_id),\n",
    "    FOREIGN KEY (manager_id) REFERENCES lfc_managers(id),\n",
    "    FOREIGN KEY (trophy_id) REFERENCES trophy(trophy_id),\n",
    "    FOREIGN KEY (team_id) REFERENCES team(team_id) -- Links to the team\n",
    ");\n"
   ]
  },
  {
   "cell_type": "markdown",
   "id": "643be30d-8cc4-4aee-81a3-8bab97c638dd",
   "metadata": {},
   "source": [
    "select year_won, name from honours, lfc_managers where year_won=\"2025\" and honours.manager_id=lfc_managers.id;"
   ]
  },
  {
   "cell_type": "markdown",
   "id": "a7c52aeb-33ec-4008-a7f4-9a366613fd9c",
   "metadata": {},
   "source": [
    "## League Titles"
   ]
  },
  {
   "cell_type": "code",
   "execution_count": null,
   "id": "b4575092-fc9a-48e0-b093-c82dc55c9f89",
   "metadata": {},
   "outputs": [],
   "source": [
    "INSERT INTO honours (trophy_id, year_won, manager_id, team_id) VALUES\n",
    "(1, '1976', 1, 1),\n",
    "(1, '1977', 1, 1),\n",
    "(1, '1979', 1, 1),\n",
    "(1, '1980', 1, 1),\n",
    "(1, '1982', 1, 1),\n",
    "(1, '1983', 1, 1),\n",
    "(1, '1901', 6, 1),\n",
    "(1, '1906', 6, 1),\n",
    "(1, '1922', 8, 1),\n",
    "(1, '1923', 9, 1),\n",
    "(1, '1947', 11, 1),\n",
    "(1, '1964', 14, 1),\n",
    "(1, '1966', 14, 1),\n",
    "(1, '1973', 14, 1),\n",
    "(1, '1984', 2, 1),\n",
    "(1, '1986', 15, 1),\n",
    "(1, '1988', 15, 1),\n",
    "(1, '1990', 15, 1),\n",
    "(1, '2020', 3, 1),\n",
    "(1, '2025', 4, 1);\n"
   ]
  },
  {
   "cell_type": "markdown",
   "id": "9ee67ec3-5a7f-4a0a-8dc8-69894f79c253",
   "metadata": {},
   "source": [
    "## League Cup"
   ]
  },
  {
   "cell_type": "code",
   "execution_count": null,
   "id": "36a4044a-ddec-405e-8148-9592e21fec98",
   "metadata": {},
   "outputs": [],
   "source": [
    "INSERT INTO honours (trophy_id, year_won, manager_id, team_id) VALUES\n",
    "(2, '2024', 4, 1),\n",
    "(2, '2022', 4, 1),\n",
    "(2, '2012', 23, 1),\n",
    "(2, '2003', 20, 1),\n",
    "(2, '2001', 20, 1),\n",
    "(2, '1995', 18, 1),\n",
    "(2, '1984', 15, 1),\n",
    "(2, '1983', 15, 1),\n",
    "(2, '1982', 1, 1),\n",
    "(2, '1981', 1, 1);\n"
   ]
  },
  {
   "cell_type": "markdown",
   "id": "dd0814a7-5c86-4f33-bbdb-f8fd57b7c1ef",
   "metadata": {},
   "source": [
    "## FA Cup"
   ]
  },
  {
   "cell_type": "code",
   "execution_count": null,
   "id": "33651338-dc66-4236-ab38-d5ff87421eda",
   "metadata": {},
   "outputs": [],
   "source": [
    "INSERT INTO honours (trophy_id, year_won, manager_id, team_id) VALUES\n",
    "(3, '2022', 3, 1),\n",
    "(3, '2006', 21, 1),\n",
    "(3, '2001', 20, 1),\n",
    "(3, '1992', 17, 1),\n",
    "(3, '1989', 15, 1),\n",
    "(3, '1986', 15, 1),\n",
    "(3, '1974', 14, 1),\n",
    "(3, '1965', 14, 1);\n"
   ]
  },
  {
   "cell_type": "markdown",
   "id": "8fc4cd51-ae60-48c1-a14b-277a53d2ddea",
   "metadata": {},
   "source": [
    "## Community Shield"
   ]
  },
  {
   "cell_type": "code",
   "execution_count": null,
   "id": "ae3e820f-ab36-4c10-bf05-36eb61e2505f",
   "metadata": {},
   "outputs": [],
   "source": [
    "INSERT INTO honours (trophy_id, year_won, manager_id, team_id) VALUES\n",
    "(4, '2023', 3, 1),\n",
    "(4, '2007', 21, 1),\n",
    "(4, '2002', 20, 1),\n",
    "(4, '1991', 15, 1),\n",
    "(4, '1990', 15, 1),\n",
    "(4, '1989', 15, 1),\n",
    "(4, '1987', 15, 1),\n",
    "(4, '1983', 1, 1),\n",
    "(4, '1981', 1, 1),\n",
    "(4, '1980', 1, 1),\n",
    "(4, '1978', 1, 1),\n",
    "(4, '1977', 1, 1),\n",
    "(4, '1975', 1, 1),\n",
    "(4, '1967', 14, 1),\n",
    "(4, '1966', 14, 1),\n",
    "(4, '1965', 14, 1);\n"
   ]
  },
  {
   "cell_type": "markdown",
   "id": "8b1f40fd-f8ac-4123-9e62-ea54ea207a74",
   "metadata": {},
   "source": [
    "## European Cup"
   ]
  },
  {
   "cell_type": "code",
   "execution_count": null,
   "id": "11bb3780-6a92-4ad6-9cac-9e99d7fae79b",
   "metadata": {},
   "outputs": [],
   "source": [
    "INSERT INTO honours (trophy_id, year_won, manager_id, team_id) VALUES\n",
    "(5, '2019', 3, 1),\n",
    "(5, '2005', 21, 1),\n",
    "(5, '1984', 2, 1),\n",
    "(5, '1981', 1, 1),\n",
    "(5, '1978', 1, 1),\n",
    "(5, '1977', 1, 1);\n"
   ]
  },
  {
   "cell_type": "markdown",
   "id": "f165fa2f-6f8a-4a1d-880e-5f58fd36ee2f",
   "metadata": {},
   "source": [
    "## UEFA Cup"
   ]
  },
  {
   "cell_type": "code",
   "execution_count": null,
   "id": "97d99bc6-3c0b-454b-8a6f-26688e6e6570",
   "metadata": {},
   "outputs": [],
   "source": [
    "INSERT INTO honours (trophy_id, year_won, manager_id, team_id) VALUES\n",
    "(6, '2001', 20, 1),\n",
    "(6, '1976', 1, 1),\n",
    "(6, '1973', 14, 1);\n"
   ]
  },
  {
   "cell_type": "markdown",
   "id": "0fbc8dae-90d6-44d4-896e-f2753aad31a1",
   "metadata": {},
   "source": [
    "## UEFA Super Cup"
   ]
  },
  {
   "cell_type": "code",
   "execution_count": null,
   "id": "0a644f5a-5310-4a82-b73c-012979bbce9d",
   "metadata": {},
   "outputs": [],
   "source": [
    "INSERT INTO honours (trophy_id, year_won, manager_id, team_id) VALUES\n",
    "(7, '2020', 3, 1),\n",
    "(7, '2006', 21, 1),\n",
    "(7, '2001', 20, 1),\n",
    "(7, '1978', 1, 1);\n"
   ]
  },
  {
   "cell_type": "markdown",
   "id": "48634798-ed2c-4da3-a39d-aa796cfa6784",
   "metadata": {},
   "source": [
    "## Club World Cup"
   ]
  },
  {
   "cell_type": "code",
   "execution_count": null,
   "id": "e2bf3848-4345-40f6-94b8-8d2240cd88ec",
   "metadata": {},
   "outputs": [],
   "source": [
    "INSERT INTO honours (trophy_id, year_won, manager_id, team_id) VALUES\n",
    "(8, '2020', 3, 1);\n"
   ]
  },
  {
   "cell_type": "markdown",
   "id": "45f87e58-7ba4-4d48-802c-f974f28dac10",
   "metadata": {},
   "source": [
    "- trophy_date_view"
   ]
  },
  {
   "cell_type": "code",
   "execution_count": null,
   "id": "2328e4d1-4009-4e82-9631-3dbaf74a48bf",
   "metadata": {},
   "outputs": [],
   "source": [
    "CREATE VIEW trophy_date_view AS\n",
    "SELECT \n",
    "    m.name AS manager_name,\n",
    "    m.start_date,\n",
    "    m.end_date,\n",
    "    th.year_won,\n",
    "    t.competition_name\n",
    "FROM lfc_managers m\n",
    "JOIN honours th ON m.id = th.manager_id\n",
    "JOIN trophy t ON th.trophy_id = t.trophy_id\n",
    "WHERE th.year_won BETWEEN STR_TO_DATE(m.start_date, '%Y-%m-%d') AND STR_TO_DATE(m.end_date, '%Y-%m-%d');\n"
   ]
  },
  {
   "cell_type": "code",
   "execution_count": null,
   "id": "6dacf536-e7e7-4436-850e-2c20d0fe80f1",
   "metadata": {},
   "outputs": [],
   "source": [
    "select * from trophy_date_view where competition_name=\"league title\";"
   ]
  },
  {
   "cell_type": "markdown",
   "id": "720fd5d5-eda4-41e7-9a86-54d737933592",
   "metadata": {},
   "source": [
    "select * from trophy_date_view where year_won=\"1967\";"
   ]
  },
  {
   "cell_type": "code",
   "execution_count": null,
   "id": "d8bfef13-3241-4aab-a08a-30a842c55468",
   "metadata": {},
   "outputs": [],
   "source": [
    "select * from trophy_date_view where manager_name=\"Kenny Dalglish\";"
   ]
  },
  {
   "cell_type": "code",
   "execution_count": null,
   "id": "8b1f982c-5a74-44a4-9530-c48e29c777ed",
   "metadata": {},
   "outputs": [],
   "source": [
    "MariaDB [lfc]> SELECT\n",
    "    ->     competition_name,\n",
    "    ->     GROUP_CONCAT(year_won ORDER BY year_won ASC SEPARATOR ', ') AS years_won\n",
    "    -> FROM trophy_date_view\n",
    "    -> WHERE manager_name = 'Bob Paisley'\n",
    "    -> GROUP BY competition_name\n",
    "    -> ORDER BY competition_name;\n",
    "+------------------+------------------------------------+\n",
    "| competition_name | years_won                          |\n",
    "+------------------+------------------------------------+\n",
    "| Community Shield | 1975, 1977, 1978, 1980, 1981, 1983 |\n",
    "| European Cup     | 1977, 1978, 1981                   |\n",
    "| League Cup       | 1981, 1982                         |\n",
    "| League Title     | 1976, 1977, 1979, 1980, 1982, 1983 |\n",
    "| UEFA Cup         | 1976                               |\n",
    "| UEFA Super Cup   | 1978                               |\n",
    "+------------------+------------------------------------+\n",
    "6 rows in set (0.001 sec)\n",
    "\n",
    "MariaDB [lfc]>"
   ]
  },
  {
   "cell_type": "code",
   "execution_count": null,
   "id": "35f4bc18-8a8c-4df5-b4d3-0b58e9eb07aa",
   "metadata": {},
   "outputs": [],
   "source": [
    "CREATE VIEW trophy_competition_view AS\n",
    "SELECT \n",
    "    t.competition_name,\n",
    "    COUNT(*) AS total_wins,\n",
    "    GROUP_CONCAT(DISTINCT m.name ORDER BY m.name SEPARATOR ', ') AS managers,\n",
    "    GROUP_CONCAT(DISTINCT th.year_won ORDER BY th.year_won SEPARATOR ', ') AS win_years\n",
    "FROM trophy t\n",
    "JOIN honours th ON t.trophy_id = th.trophy_id\n",
    "JOIN lfc_managers m ON th.manager_id = m.id\n",
    "GROUP BY t.competition_name;\n"
   ]
  },
  {
   "cell_type": "code",
   "execution_count": null,
   "id": "b093e7dc-d716-49a2-ace9-4b65703bf0b6",
   "metadata": {},
   "outputs": [],
   "source": [
    "CREATE VIEW manager_trophies_view AS\n",
    "SELECT \n",
    "    m.id AS manager_id,\n",
    "    m.name AS manager_name,\n",
    "    COUNT(*) AS total_trophies,\n",
    "    MIN(th.year_won) AS first_win,\n",
    "    MAX(th.year_won) AS last_win\n",
    "FROM lfc_managers m\n",
    "JOIN honours th ON m.id = th.manager_id\n",
    "GROUP BY m.id, m.name;\n"
   ]
  },
  {
   "cell_type": "code",
   "execution_count": null,
   "id": "f3143388-a462-48cc-bf4a-77abe5ddf709",
   "metadata": {},
   "outputs": [],
   "source": [
    "SELECT * FROM manager_trophies_view ORDER BY total_trophies DESC;"
   ]
  },
  {
   "cell_type": "code",
   "execution_count": null,
   "id": "a5a61dd6-0bf5-40e4-acc6-d7833e513b1c",
   "metadata": {},
   "outputs": [],
   "source": []
  },
  {
   "cell_type": "code",
   "execution_count": null,
   "id": "2db5ad69-66b4-4d1b-add1-9c40fe7d7995",
   "metadata": {},
   "outputs": [],
   "source": [
    "CREATE VIEW trophy_competition_view AS\n",
    "SELECT \n",
    "    t.competition_name,\n",
    "    COUNT(*) AS total_wins,\n",
    "    GROUP_CONCAT(DISTINCT m.name ORDER BY m.name SEPARATOR ', ') AS managers,\n",
    "    GROUP_CONCAT(DISTINCT th.year_won ORDER BY th.year_won SEPARATOR ', ') AS win_years\n",
    "FROM trophy t\n",
    "JOIN honours th ON t.trophy_id = th.trophy_id\n",
    "JOIN lfc_managers m ON th.manager_id = m.id\n",
    "GROUP BY t.competition_name;\n"
   ]
  },
  {
   "cell_type": "code",
   "execution_count": null,
   "id": "5a3dc0fa-2733-4b63-b10b-330ebe49c075",
   "metadata": {},
   "outputs": [],
   "source": [
    "SELECT * FROM trophy_competition_view ORDER BY total_wins DESC;"
   ]
  },
  {
   "cell_type": "markdown",
   "id": "084bf49e-2998-4777-9e32-67992d1f901e",
   "metadata": {},
   "source": [
    "include orientation and manager win dates"
   ]
  },
  {
   "cell_type": "code",
   "execution_count": null,
   "id": "204e2077-7a91-436d-b9a4-5045d1cd13c2",
   "metadata": {},
   "outputs": [],
   "source": [
    "CREATE OR REPLACE VIEW trophy_competition_view AS\n",
    "SELECT \n",
    "    t.trophy_id,\n",
    "    t.trophy_img,\n",
    "    t.competition_name,\n",
    "    COUNT(*) AS total_wins,\n",
    "    GROUP_CONCAT(CONCAT(m.name, ' (', th.year_won, ')')\n",
    "                 ORDER BY th.year_won SEPARATOR ', ') AS win_details\n",
    "FROM trophy t\n",
    "JOIN honours th ON t.trophy_id = th.trophy_id\n",
    "JOIN lfc_managers m ON th.manager_id = m.id\n",
    "WHERE th.team_id = 1  -- assuming team_id 1 corresponds to Liverpool FC\n",
    "GROUP BY t.trophy_id, t.trophy_img, t.competition_name;\n"
   ]
  },
  {
   "cell_type": "code",
   "execution_count": null,
   "id": "8a10f7dd-013c-4d90-96c4-2225c596a1b0",
   "metadata": {},
   "outputs": [],
   "source": [
    "CREATE VIEW manager_season_view AS\n",
    "SELECT \n",
    "    m.id AS manager_id,\n",
    "    m.name AS manager_name,\n",
    "    DATE_FORMAT(m.start_date, '%Y') AS start_year,\n",
    "    DATE_FORMAT(m.end_date, '%Y') AS end_year,\n",
    "    GROUP_CONCAT(DISTINCT th.year_won ORDER BY th.year_won SEPARATOR ', ') AS winning_years\n",
    "FROM lfc_managers m\n",
    "LEFT JOIN honours th ON m.id = th.manager_id \n",
    "    AND th.year_won BETWEEN STR_TO_DATE(m.start_date, '%Y-%m-%d')\n",
    "                      AND IFNULL(STR_TO_DATE(m.end_date, '%Y-%m-%d'), '2099-12-31')\n",
    "GROUP BY m.id, m.name, m.start_date, m.end_date;\n"
   ]
  },
  {
   "cell_type": "code",
   "execution_count": null,
   "id": "11256a09-ab4a-42c4-9f52-1c093f061c15",
   "metadata": {},
   "outputs": [],
   "source": [
    "SELECT * FROM manager_season_view\n",
    "WHERE manager_name = 'Arne Slot';"
   ]
  },
  {
   "cell_type": "code",
   "execution_count": null,
   "id": "84882dd0-ea1d-4511-8e73-1f49a3f92f94",
   "metadata": {},
   "outputs": [],
   "source": []
  },
  {
   "cell_type": "markdown",
   "id": "075cafe1-0c03-4f5a-b63d-15d1bf145921",
   "metadata": {},
   "source": [
    "- trophy_manager_view"
   ]
  },
  {
   "cell_type": "code",
   "execution_count": null,
   "id": "c530be88-fc5b-4067-bc5f-40705ccfbad0",
   "metadata": {},
   "outputs": [],
   "source": [
    "CREATE VIEW trophy_manager_view AS\n",
    "SELECT \n",
    "    t.competition_name GROUP_CONCAT(h.year_won ORDER BY h.year_won ASC SEPARATOR ', ') AS Years_Won,\n",
    "    h.manager_id\n",
    "FROM honours h\n",
    "JOIN trophy t ON h.trophy_id = t.trophy_id\n",
    "GROUP BY h.manager_id, t.competition_name\n",
    "ORDER BY t.competition_name;\n"
   ]
  },
  {
   "cell_type": "code",
   "execution_count": null,
   "id": "8e268ba3-f407-40d6-b0af-666941dad6d5",
   "metadata": {},
   "outputs": [],
   "source": [
    "select * from trophy_manager_view where competition=\"league title\";"
   ]
  },
  {
   "cell_type": "code",
   "execution_count": null,
   "id": "071beef4-6fc4-4a01-9dec-1ef22ad83711",
   "metadata": {},
   "outputs": [],
   "source": [
    "select * from trophy_manager_view where year_won=\"1967\";"
   ]
  },
  {
   "cell_type": "code",
   "execution_count": null,
   "id": "708f9db0-7fb4-406a-b020-406eab6974e2",
   "metadata": {},
   "outputs": [],
   "source": [
    "select * from trophy_manager_view where manager_id=15;"
   ]
  },
  {
   "cell_type": "code",
   "execution_count": null,
   "id": "9e2007ab-8015-4af4-aeae-df232485bdf2",
   "metadata": {},
   "outputs": [],
   "source": [
    "SELECT \n",
    "    tmv.year_won, \n",
    "    tmv.competition_name, \n",
    "    lm.name AS manager_name\n",
    "FROM trophy_manager_view tmv\n",
    "JOIN lfc_managers lm ON tmv.manager_id = lm.id\n",
    "WHERE tmv.manager_id = 1;\n"
   ]
  },
  {
   "cell_type": "code",
   "execution_count": null,
   "id": "e674bed3-6cb7-4bf1-86bc-58e47c7de8a0",
   "metadata": {},
   "outputs": [],
   "source": []
  },
  {
   "cell_type": "code",
   "execution_count": 5,
   "id": "4cc15ca2-096f-4df3-ac04-691ba9de0c4c",
   "metadata": {},
   "outputs": [
    {
     "name": "stdout",
     "output_type": "stream",
     "text": [
      "<code>xxxxxxxxxxxxxxxxxxxxxxxxxxxxxxxxxxxxxxxxxxxxxxxxxx</code>\n",
      "richardfrancis.info\n"
     ]
    }
   ],
   "source": [
    "import time\n",
    "\n",
    "def progress_bar(total=50, delay=0.5):\n",
    "    for i in range(1, total + 1):\n",
    "        bar = \"x\" * i + \".\" * (total - i)  # Fills with 'x' and remaining with '.'\n",
    "        print(f\"<code>{bar}</code>\", end=\"\\r\")\n",
    "        time.sleep(delay)\n",
    "    print(\"\\nrichardfrancis.info\")\n",
    "\n",
    "progress_bar()"
   ]
  },
  {
   "cell_type": "code",
   "execution_count": null,
   "id": "f6a58d0c-8bb6-4ee8-8462-63aa06285204",
   "metadata": {},
   "outputs": [],
   "source": [
    "select honours.year_won, lfc_managers.name, competition_name from honours, lfc_managers, trophy\n",
    "where honours.manager_id=lfc_managers.id and trophy.trophy_id=honours.trophy_id\n",
    "order by year_won desc;"
   ]
  },
  {
   "cell_type": "code",
   "execution_count": null,
   "id": "59f698ce-aff7-4565-a473-3096353d0df0",
   "metadata": {},
   "outputs": [],
   "source": [
    "SELECT lfc_managers.name, trophy.competition_name, sum(trophy_id), \n",
    "FROM lfc_managers, trophy, honours\n",
    "WHERE honours.manager_id=lfc_managers.id and trophy.trophy_id=honours.trophy_id"
   ]
  },
  {
   "cell_type": "markdown",
   "id": "d7843bba-de0f-40f7-81e3-bac5e7862908",
   "metadata": {},
   "source": [
    "https://dbdiagram.io/d/6831af5db9f7446da3f6f2aa"
   ]
  },
  {
   "cell_type": "code",
   "execution_count": null,
   "id": "70055028-9803-474a-ad23-27ea928083f5",
   "metadata": {},
   "outputs": [],
   "source": [
    "mysqldump -h localhost -u root -P 3306 -p --no-data lfc > D:\\mysql_lfc_schema.sql"
   ]
  },
  {
   "cell_type": "markdown",
   "id": "bb816b15-0469-4cbc-babf-d297dfbf6bd3",
   "metadata": {},
   "source": [
    "# Dalglish honours"
   ]
  },
  {
   "cell_type": "code",
   "execution_count": null,
   "id": "7e1e031f-98e8-4316-8a55-f788c6a9100e",
   "metadata": {},
   "outputs": [],
   "source": [
    "sselect * from trophy_date_view where manager_name=\"Kenny Dalglish\";"
   ]
  },
  {
   "cell_type": "code",
   "execution_count": null,
   "id": "3bfacd50-0d3f-42ef-9329-368966768db3",
   "metadata": {},
   "outputs": [],
   "source": [
    "MariaDB [lfc]> select * from trophy_date_view where manager_name=\"Kenny Dalglish\";\n",
    "+----------------+------------+------------+----------+------------------+\n",
    "| manager_name   | start_date | end_date   | year_won | competition_name |\n",
    "+----------------+------------+------------+----------+------------------+\n",
    "| Kenny Dalglish | 1985-05-30 | 1991-02-21 |     1986 | League Title     |\n",
    "| Kenny Dalglish | 1985-05-30 | 1991-02-21 |     1988 | League Title     |\n",
    "| Kenny Dalglish | 1985-05-30 | 1991-02-21 |     1990 | League Title     |\n",
    "| Kenny Dalglish | 2011-01-08 | 2012-05-16 |     2012 | League Cup       |\n",
    "| Kenny Dalglish | 1985-05-30 | 1991-02-21 |     1986 | FA Cup           |\n",
    "| Kenny Dalglish | 1985-05-30 | 1991-02-21 |     1989 | FA Cup           |\n",
    "| Kenny Dalglish | 1985-05-30 | 1991-02-21 |     1987 | Community Shield |\n",
    "| Kenny Dalglish | 1985-05-30 | 1991-02-21 |     1989 | Community Shield |\n",
    "| Kenny Dalglish | 1985-05-30 | 1991-02-21 |     1990 | Community Shield |\n",
    "| Kenny Dalglish | 1985-05-30 | 1991-02-21 |     1991 | Community Shield |\n",
    "+----------------+------------+------------+----------+------------------+"
   ]
  },
  {
   "cell_type": "code",
   "execution_count": null,
   "id": "38a49c7c-4992-444b-ad7d-66e212e85c11",
   "metadata": {},
   "outputs": [],
   "source": [
    "SELECT * FROM honours WHERE year_won BETWEEN \"1977\" AND \"1990\" order by year_won desc;"
   ]
  },
  {
   "cell_type": "code",
   "execution_count": null,
   "id": "0b1fa6fe-8e64-4563-a455-f27a55c735fd",
   "metadata": {},
   "outputs": [],
   "source": [
    "SELECT id, name, year_won \n",
    "FROM lfc_managers, honours WHERE year_won BETWEEN \"1977\" AND \"1990\"\n",
    "AND lfc_managers.id=honours.manager_id\n",
    "ORDER BY year_won DESC;"
   ]
  }
 ],
 "metadata": {
  "kernelspec": {
   "display_name": "Python 3 (ipykernel)",
   "language": "python",
   "name": "python3"
  },
  "language_info": {
   "codemirror_mode": {
    "name": "ipython",
    "version": 3
   },
   "file_extension": ".py",
   "mimetype": "text/x-python",
   "name": "python",
   "nbconvert_exporter": "python",
   "pygments_lexer": "ipython3",
   "version": "3.10.16"
  }
 },
 "nbformat": 4,
 "nbformat_minor": 5
}
